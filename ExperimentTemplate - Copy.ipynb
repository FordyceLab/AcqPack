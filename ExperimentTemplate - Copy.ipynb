{
 "cells": [
  {
   "cell_type": "code",
   "execution_count": 2,
   "metadata": {
    "collapsed": true,
    "deletable": true,
    "editable": true
   },
   "outputs": [],
   "source": [
    "from IPython import display\n",
    "from ipywidgets import widgets"
   ]
  },
  {
   "cell_type": "code",
   "execution_count": 3,
   "metadata": {
    "collapsed": false,
    "deletable": true,
    "editable": true
   },
   "outputs": [
    {
     "name": "stdout",
     "output_type": "stream",
     "text": [
      "Initializing stage...\n",
      "(0.0012, -0.001)\n"
     ]
    }
   ],
   "source": [
    "from config import ASI_Controller, Motor\n",
    "Z = Motor('config/motor.yaml')\n",
    "XY = ASI_Controller('config/asi_controller.yaml')\n",
    "print(XY.where_xy())"
   ]
  },
  {
   "cell_type": "code",
   "execution_count": null,
   "metadata": {
    "collapsed": false,
    "deletable": true,
    "editable": true
   },
   "outputs": [],
   "source": [
    "Z.move_relative(5)"
   ]
  },
  {
   "cell_type": "code",
   "execution_count": null,
   "metadata": {
    "collapsed": false,
    "deletable": true,
    "editable": true
   },
   "outputs": [],
   "source": [
    "overload = 999.9\n",
    "\n",
    "XY.move_xy(-overload, -overload)\n",
    "xmin, ymin = XY.where_xy()\n",
    "print 'xmin: {} ymin: {}'.format(xmin, ymin)\n",
    "\n",
    "XY.move_xy(overload, overload)\n",
    "xmax, ymax = XY.where_xy()\n",
    "print 'xmax: {} ymax: {}'.format(xmax, ymax)\n",
    "\n",
    "ranges_xy = (xmax - xmin, ymax - ymin)\n",
    "print 'range: ', ranges_xy"
   ]
  },
  {
   "cell_type": "code",
   "execution_count": 3,
   "metadata": {
    "collapsed": false,
    "deletable": true,
    "editable": true
   },
   "outputs": [
    {
     "data": {
      "application/vnd.jupyter.widget-view+json": {
       "model_id": "d5562efcfbcb4c5cbe64bbcad6855fdb"
      }
     },
     "metadata": {},
     "output_type": "display_data"
    }
   ],
   "source": [
    "# icons are from \"font-awesome\"\n",
    "x_minus = widgets.Button(\n",
    "    description='',\n",
    "    disabled=False,\n",
    "    button_style='primary',\n",
    "    icon = 'fa-arrow-left',\n",
    "    width = '50px')\n",
    "def xminus(b):\n",
    "    XY.r_xy(-xy_slider.value,0)\n",
    "    display.clear_output()\n",
    "    print(XY.where_xy())\n",
    "x_minus.on_click(xminus)\n",
    "\n",
    "x_plus = widgets.Button(\n",
    "    description='',\n",
    "    disabled=False,\n",
    "    button_style='primary',\n",
    "    icon = 'fa-arrow-right',\n",
    "    width = '50px')\n",
    "def xplus(b):\n",
    "    XY.r_xy(xy_slider.value,0)\n",
    "    display.clear_output()\n",
    "    print(XY.where_xy())\n",
    "x_plus.on_click(xplus)\n",
    "\n",
    "y_minus = widgets.Button(\n",
    "    description='',\n",
    "    disabled=False,\n",
    "    button_style='primary', \n",
    "    icon='fa-arrow-up',\n",
    "    width = '50px')\n",
    "def yminus(b):\n",
    "    XY.r_xy(0, -xy_slider.value)\n",
    "    display.clear_output()\n",
    "    print(XY.where_xy())\n",
    "y_minus.on_click(yminus)\n",
    "\n",
    "y_plus = widgets.Button(\n",
    "    description='',\n",
    "    disabled=False,\n",
    "    button_style='primary',\n",
    "    icon = 'fa-arrow-down',\n",
    "    width = '50px')\n",
    "def yplus(b):\n",
    "    XY.r_xy(0, xy_slider.value)\n",
    "    display.clear_output()\n",
    "    print(XY.where_xy())\n",
    "y_plus.on_click(yplus)\n",
    "\n",
    "\n",
    "xy_home = widgets.Button(\n",
    "    description='',\n",
    "    disabled=False,\n",
    "    button_style='primary',\n",
    "    icon = 'fa-home',\n",
    "    width = '50px')\n",
    "def xyhome(b):\n",
    "    Z.home()\n",
    "    XY.move_xy(0,0)\n",
    "    display.clear_output()\n",
    "    print(XY.where_xy())\n",
    "xy_home.on_click(xyhome)\n",
    "\n",
    "xy_slider = widgets.FloatSlider(description='[mm]', min=.05, max=10,step=.05, orientation='vertical', height='150px')\n",
    "def xystep(change):\n",
    "    xy_step = change['new']\n",
    "xy_slider.observe(xystep, names='value')\n",
    "\n",
    "xy_cluster = widgets.HBox([ xy_slider, widgets.VBox([ widgets.HBox([x_minus,x_plus,xy_home]), widgets.HBox([y_minus, y_plus]) ]) ])\n",
    "\n",
    "\n",
    "z_minus = widgets.Button(\n",
    "    description='',\n",
    "    disabled=False,\n",
    "    button_style='primary',\n",
    "    icon = 'fa-arrow-up')\n",
    "def zminus(b):\n",
    "    Z.move_relative(-z_slider.value)\n",
    "    display.clear_output()\n",
    "    print(Z.where())\n",
    "z_minus.on_click(zminus)\n",
    "\n",
    "z_plus = widgets.Button(\n",
    "    description='',\n",
    "    disabled=False,\n",
    "    button_style='primary',\n",
    "    icon = 'fa-arrow-down')\n",
    "def zplus(b):\n",
    "    Z.move_relative(z_slider.value)\n",
    "    display.clear_output()\n",
    "    print(Z.where())\n",
    "z_plus.on_click(zplus)\n",
    "\n",
    "z_home = widgets.Button(\n",
    "    description='',\n",
    "    disabled=False,\n",
    "    button_style='primary',\n",
    "    icon = 'fa-home',\n",
    "    width = '50px')\n",
    "def zhome(b):\n",
    "    Z.home()\n",
    "    display.clear_output()\n",
    "    print(Z.where())\n",
    "z_home.on_click(zhome)\n",
    "\n",
    "z_slider = widgets.FloatSlider(description='[mm]', min=.05, max=10,step=.05, orientation='vertical', height='150px')\n",
    "def zstep(change):\n",
    "    z_step = change['new']\n",
    "z_slider.observe(zstep, names='value')\n",
    "\n",
    "z_cluster = widgets.VBox([ widgets.HBox([ z_slider, widgets.VBox([z_minus, z_plus]), z_home]) ])\n",
    "\n",
    "\n",
    "x_pos = widgets.Text(\n",
    "    value='0',\n",
    "    placeholder='Type something',\n",
    "    description='X:',\n",
    "    disabled=False,\n",
    "    width='150px')\n",
    "def xpos(sender):\n",
    "    xcurr,ycurr = XY.where_xy()\n",
    "    XY.move_xy(sender.value,ycurr)\n",
    "x_pos.on_submit(xpos)\n",
    "\n",
    "y_pos = widgets.Text(\n",
    "    value='0',\n",
    "    placeholder='Type something',\n",
    "    description='Y:',\n",
    "    disabled=False,\n",
    "    width='150px')\n",
    "def ypos(sender):\n",
    "    xcurr,ycurr = XY.where_xy()\n",
    "    XY.move_xy(xcurr, sender.value)\n",
    "y_pos.on_submit(ypos)\n",
    "\n",
    "z_pos = widgets.Text(\n",
    "    value='0',\n",
    "    placeholder='Type something',\n",
    "    description='Z:',\n",
    "    disabled=False,\n",
    "    width='150px')\n",
    "def zpos(sender):\n",
    "    Z.move(float(sender.value))\n",
    "z_pos.on_submit(zpos)\n",
    "\n",
    "line = widgets.Label(value=\"$---------------------------------------$\",disabled=False)\n",
    "\n",
    "widgets.VBox([ widgets.HBox([x_pos, y_pos, z_pos]), line, widgets.HBox([xy_cluster, z_cluster]) ])\n",
    "\n",
    "\n",
    " \n",
    "# TODO: GO button\n",
    "# TODO: convert Z.move() input to float in .py file\n",
    "# TODO: GUI class"
   ]
  },
  {
   "cell_type": "code",
   "execution_count": 7,
   "metadata": {
    "collapsed": false
   },
   "outputs": [
    {
     "data": {
      "text/plain": [
       "<config.gui.GUI instance at 0x104ea3878>"
      ]
     },
     "execution_count": 7,
     "metadata": {},
     "output_type": "execute_result"
    }
   ],
   "source": []
  },
  {
   "cell_type": "code",
   "execution_count": null,
   "metadata": {
    "collapsed": true,
    "deletable": true,
    "editable": true
   },
   "outputs": [],
   "source": [
    "stri = 'A01\t-2.3985\t32.4159\t93.4\\nA02\t-11.3985\t32.4159\t93.4\\nA03\t-20.3985\t32.4159\t93.4\\nA04\t-29.3985\t32.4159\t93.4\\nA05\t-38.3985\t32.4159\t93.4\\nA06\t-47.3985\t32.4159\t93.4\\nA07\t-56.3985\t32.4159\t93.4\\nA08\t-65.3985\t32.4159\t93.4\\nA09\t-74.3985\t32.4159\t93.4\\nA10\t-83.3985\t32.4159\t93.4\\nB01\t-2.3985\t41.4159\t93.4\\nB02\t-11.3985\t41.4159\t93.4\\nB03\t-20.3985\t41.4159\t93.4\\nB04\t-29.3985\t41.4159\t93.4\\nB05\t-38.3985\t41.4159\t93.4\\nB06\t-47.3985\t41.4159\t93.4\\nB07\t-56.3985\t41.4159\t93.4\\nB08\t-65.3985\t41.4159\t93.4\\nB09\t-74.3985\t41.4159\t93.4\\nB10\t-83.3985\t41.4159\t93.4\\nB11\t-92.3985\t41.4159\t93.4'\n",
    "locs = {}\n",
    "for lin in stri.splitlines():\n",
    "    tem = lin.split('\\t')\n",
    "    locs[tem[0]] = map(float, tem[1:])\n",
    "locs"
   ]
  },
  {
   "cell_type": "code",
   "execution_count": 120,
   "metadata": {
    "collapsed": false,
    "deletable": true,
    "editable": true
   },
   "outputs": [
    {
     "data": {
      "text/plain": [
       "'Sat Apr 29 17:01:29 2017'"
      ]
     },
     "execution_count": 120,
     "metadata": {},
     "output_type": "execute_result"
    }
   ],
   "source": [
    "[['Sat Apr 29 16:39:09 2017', 'AT A01'],\n",
    " ['Sat Apr 29 16:39:40 2017', 'OPEN tree in + out'],\n",
    " ['Sat Apr 29 17:04:23 2017', 'CLOSE tree out; OPEN chip in + out'],\n",
    " ['Sat Apr 29 17:16:19 2017', 'AT wash'],\n",
    " ['Sat Apr 29 17:17:46 2017', 'AT A02'],\n",
    " ['Sat Apr 29 17:19:17 2017', 'OPEN tree in + out'],\n",
    " ['Sat Apr 29 17:41:34 2017', 'CLOSE tree out; OPEN chip in + out'],\n",
    " ['Sat Apr 29 17:50:44 2017', 'CLOSE chip out + in; CLOSE tree in'],\n",
    " ['Sat Apr 29 17:51:40 2017', 'AT wash'],\n",
    " ['Sat Apr 29 17:52:12 2017', 'AT A03'],\n",
    " ['Sat Apr 29 17:53:44 2017', 'OPEN tree in + out'],\n",
    " ['Sat Apr 29 18:16:05 2017', 'CLOSE tree out; OPEN chip in + out'],\n",
    " ['Sat Apr 29 18:19:51 2017', 'CLOSE chip out + in; CLOSE tree in'],\n",
    " ['Sat Apr 29 18:20:04 2017', 'AT wash'],\n",
    " ['Sat Apr 29 18:20:26 2017', 'AT A04'],\n",
    " ['Sat Apr 29 18:20:50 2017', 'OPEN tree in + out']]"
   ]
  },
  {
   "cell_type": "code",
   "execution_count": 143,
   "metadata": {
    "collapsed": false,
    "deletable": true,
    "editable": true
   },
   "outputs": [
    {
     "data": {
      "text/plain": [
       "[['Sat Apr 29 16:39:09 2017', 'AT A01'],\n",
       " ['Sat Apr 29 16:39:40 2017', 'OPEN tree in + out'],\n",
       " ['Sat Apr 29 17:04:23 2017', 'CLOSE tree out; OPEN chip in + out'],\n",
       " ['Sat Apr 29 17:16:19 2017', 'AT wash'],\n",
       " ['Sat Apr 29 17:17:46 2017', 'AT A02'],\n",
       " ['Sat Apr 29 17:19:17 2017', 'OPEN tree in + out'],\n",
       " ['Sat Apr 29 17:41:34 2017', 'CLOSE tree out; OPEN chip in + out'],\n",
       " ['Sat Apr 29 17:50:44 2017', 'CLOSE chip out + in; CLOSE tree in'],\n",
       " ['Sat Apr 29 17:51:40 2017', 'AT wash'],\n",
       " ['Sat Apr 29 17:52:12 2017', 'AT A03'],\n",
       " ['Sat Apr 29 17:53:44 2017', 'OPEN tree in + out'],\n",
       " ['Sat Apr 29 18:16:05 2017', 'CLOSE tree out; OPEN chip in + out'],\n",
       " ['Sat Apr 29 18:19:51 2017', 'CLOSE chip out + in; CLOSE tree in'],\n",
       " ['Sat Apr 29 18:20:04 2017', 'AT wash'],\n",
       " ['Sat Apr 29 18:20:26 2017', 'AT A04'],\n",
       " ['Sat Apr 29 18:20:50 2017', 'OPEN tree in + out'],\n",
       " ['Sat Apr 29 18:44:00 2017', 'CLOSE tree out; OPEN chip in + out'],\n",
       " ['Sat Apr 29 18:47:07 2017', 'CLOSE chip out + in; CLOSE tree in'],\n",
       " ['Sat Apr 29 18:47:22 2017', 'AT wash']]"
      ]
     },
     "execution_count": 143,
     "metadata": {},
     "output_type": "execute_result"
    }
   ],
   "source": [
    "# 16:39:40 to 16:56:43\n",
    "# log = []\n",
    "log"
   ]
  },
  {
   "cell_type": "markdown",
   "metadata": {
    "deletable": true,
    "editable": true
   },
   "source": [
    "# Loop"
   ]
  },
  {
   "cell_type": "code",
   "execution_count": 136,
   "metadata": {
    "collapsed": false,
    "deletable": true,
    "editable": true
   },
   "outputs": [],
   "source": [
    "# WELL\n",
    "# all valves closed\n",
    "st = 'A01'\n",
    "\n",
    "x1,y1,z1 = locs[st]\n",
    "\n",
    "Z.move(42)\n",
    "XY.move_xy(x1,y1)\n",
    "Z.move(z1)\n",
    "log.append([time.ctime(time.time()), 'AT '+st])"
   ]
  },
  {
   "cell_type": "code",
   "execution_count": 137,
   "metadata": {
    "collapsed": true,
    "deletable": true,
    "editable": true
   },
   "outputs": [],
   "source": [
    "# ACQUIRE 120 frames 11000 ms\n",
    "# OPEN Hep_1 + W_1 (tree in + out)\n",
    "log.append([time.ctime(time.time()), 'OPEN tree in + out'])\n",
    "\n",
    "# flow 20 min (fill tube + tree)"
   ]
  },
  {
   "cell_type": "code",
   "execution_count": 139,
   "metadata": {
    "collapsed": true,
    "deletable": true,
    "editable": true
   },
   "outputs": [],
   "source": [
    "# ACQUIRE 120 frames  5000 ms\n",
    "# CLOSE W_1 (tree out); OPEN in_1 + out_1 (chip in + out)\n",
    "log.append([time.ctime(time.time()), 'CLOSE tree out; OPEN chip in + out'])\n",
    "\n",
    "# flow 10 min (fill chip)"
   ]
  },
  {
   "cell_type": "code",
   "execution_count": 140,
   "metadata": {
    "collapsed": true,
    "deletable": true,
    "editable": true
   },
   "outputs": [],
   "source": [
    "# CLOSE out_1 + in_1 (chip out + in); CLOSE Hep_1 (tree in)\n",
    "log.append([time.ctime(time.time()), 'CLOSE chip out + in; CLOSE tree in'])\n",
    "\n",
    "# incubate... WASH in meantime"
   ]
  },
  {
   "cell_type": "code",
   "execution_count": 141,
   "metadata": {
    "collapsed": true,
    "deletable": true,
    "editable": true
   },
   "outputs": [],
   "source": [
    "# WASH\n",
    "Z.move(42)\n",
    "XY.move_xy(-8.9473,1.0592)\n",
    "Z.move(62)\n",
    "log.append([time.ctime(time.time()), 'AT wash'])"
   ]
  },
  {
   "cell_type": "code",
   "execution_count": null,
   "metadata": {
    "collapsed": true,
    "deletable": true,
    "editable": true
   },
   "outputs": [],
   "source": []
  },
  {
   "cell_type": "code",
   "execution_count": null,
   "metadata": {
    "collapsed": true,
    "deletable": true,
    "editable": true
   },
   "outputs": [],
   "source": []
  },
  {
   "cell_type": "markdown",
   "metadata": {
    "deletable": true,
    "editable": true
   },
   "source": [
    "# SETUP"
   ]
  },
  {
   "cell_type": "code",
   "execution_count": 96,
   "metadata": {
    "collapsed": true,
    "deletable": true,
    "editable": true
   },
   "outputs": [],
   "source": [
    "import time\n",
    "import numpy as np\n",
    "import matplotlib.pyplot as plt\n",
    "%matplotlib inline"
   ]
  },
  {
   "cell_type": "markdown",
   "metadata": {
    "deletable": true,
    "editable": true
   },
   "source": [
    "### Autosipper"
   ]
  },
  {
   "cell_type": "code",
   "execution_count": null,
   "metadata": {
    "collapsed": false,
    "deletable": true,
    "editable": true
   },
   "outputs": [],
   "source": [
    "# config director must have \"__init__.py\" file\n",
    "# from the 'config' directory, import the following classes:\n",
    "from config import Motor, ASI_Controller, Autosipper\n",
    "from config import utils as ut\n",
    "\n",
    "autosipper = Autosipper(Motor('config/motor.yaml'), ASI_Controller('config/asi_controller.yaml'))\n",
    "autosipper.coord_frames"
   ]
  },
  {
   "cell_type": "code",
   "execution_count": null,
   "metadata": {
    "collapsed": false,
    "deletable": true,
    "editable": true
   },
   "outputs": [],
   "source": [
    "# add/determine deck info\n",
    "autosipper.coord_frames.deck.position_table = ut.read_delim_pd('config/position_tables/deck')\n",
    "\n",
    "# check deck alignment\n",
    "# CLEAR DECK OF OBSTRUCTIONS!!\n",
    "autosipper.go_to('deck', ['name'],'align')"
   ]
  },
  {
   "cell_type": "code",
   "execution_count": null,
   "metadata": {
    "collapsed": true,
    "deletable": true,
    "editable": true
   },
   "outputs": [],
   "source": [
    "# add plate"
   ]
  },
  {
   "cell_type": "markdown",
   "metadata": {
    "deletable": true,
    "editable": true
   },
   "source": [
    "### Manifold"
   ]
  },
  {
   "cell_type": "code",
   "execution_count": null,
   "metadata": {
    "collapsed": true,
    "deletable": true,
    "editable": true
   },
   "outputs": [],
   "source": [
    "from config import Manifold\n",
    "\n",
    "manifold = Manifold('192.168.1.3', 'config/valvemaps/valvemap.csv', 512)\n",
    "manifold.valvemap[manifold.valvemap.name>0]"
   ]
  },
  {
   "cell_type": "markdown",
   "metadata": {
    "deletable": true,
    "editable": true
   },
   "source": [
    "### Micromanager"
   ]
  },
  {
   "cell_type": "code",
   "execution_count": null,
   "metadata": {
    "collapsed": false,
    "deletable": true,
    "editable": true
   },
   "outputs": [],
   "source": [
    "# !!!! Also must have MM folder on system PATH\n",
    "# mm_version = 'C:\\Micro-Manager-1.4'\n",
    "# cfg = 'C:\\Micro-Manager-1.4\\SetupNumber2_05102016.cfg'\n",
    "mm_version = 'C:\\Program Files\\Micro-Manager-2.0beta'\n",
    "cfg = 'C:\\Program Files\\Micro-Manager-2.0beta\\Setup2_20170413.cfg'\n",
    "\n",
    "import sys\n",
    "sys.path.insert(0, mm_version) # make it so python can find MMCorePy\n",
    "import MMCorePy\n",
    "\n",
    "from PIL import Image\n",
    "\n",
    "core = MMCorePy.CMMCore()\n",
    "core.loadSystemConfiguration(cfg)\n",
    "core.setProperty(\"Spectra\", \"White_Enable\", \"1\")\n",
    "core.waitForDevice(\"Spectra\")\n",
    "\n",
    "core.setProperty(\"Cam Andor_Zyla4.2\", \"Sensitivity/DynamicRange\", \"16-bit (low noise & high well capacity)\") # NEED TO SET CAMERA TO 16 BIT (ceiling 12 BIT = 4096)"
   ]
  },
  {
   "cell_type": "code",
   "execution_count": null,
   "metadata": {
    "collapsed": true,
    "deletable": true,
    "editable": true
   },
   "outputs": [],
   "source": [
    "# core.initializeCircularBuffer()\n",
    "# core.setCircularBufferMemoryFootprint(4096) # MiB "
   ]
  },
  {
   "cell_type": "markdown",
   "metadata": {
    "collapsed": false,
    "deletable": true,
    "editable": true
   },
   "source": [
    "Preset: 1_PBP   \n",
    "ConfigGroup,Channel,1_PBP,TIFilterBlock1,Label,1-PBP\n",
    "\n",
    "Preset: 2_BF    \n",
    "ConfigGroup,Channel,2_BF,TIFilterBlock1,Label,2-BF\n",
    "\n",
    "Preset: 3_DAPI   \n",
    "ConfigGroup,Channel,3_DAPI,TIFilterBlock1,Label,3-DAPI\n",
    "\n",
    "Preset: 4_eGFP   \n",
    "ConfigGroup,Channel,4_eGFP,TIFilterBlock1,Label,4-GFP\n",
    "\n",
    "Preset: 5_Cy5   \n",
    "ConfigGroup,Channel,5_Cy5,TIFilterBlock1,Label,5-Cy5\n",
    "\n",
    "Preset: 6_AttoPhos   \n",
    "ConfigGroup,Channel,6_AttoPhos,TIFilterBlock1,Label,6-AttoPhos"
   ]
  },
  {
   "cell_type": "markdown",
   "metadata": {
    "deletable": true,
    "editable": true
   },
   "source": [
    "# EXPERIMENT"
   ]
  },
  {
   "cell_type": "code",
   "execution_count": null,
   "metadata": {
    "collapsed": true,
    "deletable": true,
    "editable": true
   },
   "outputs": [],
   "source": [
    "core.setConfig('Channel','1_PBP')"
   ]
  },
  {
   "cell_type": "code",
   "execution_count": null,
   "metadata": {
    "collapsed": true,
    "deletable": true,
    "editable": true
   },
   "outputs": [],
   "source": [
    "core.setProperty(core.getCameraDevice(), \"Exposure\", 300)"
   ]
  },
  {
   "cell_type": "code",
   "execution_count": null,
   "metadata": {
    "collapsed": false,
    "deletable": true,
    "editable": true,
    "scrolled": true
   },
   "outputs": [],
   "source": [
    "core.snapImage()\n",
    "img = core.getImage()\n",
    "plt.imshow(img,cmap='gray')\n",
    "image = Image.fromarray(img)\n",
    "image.save('TESTIMAGE.tif')"
   ]
  },
  {
   "cell_type": "code",
   "execution_count": null,
   "metadata": {
    "collapsed": false,
    "deletable": true,
    "editable": true
   },
   "outputs": [],
   "source": [
    "for i in range(5):\n",
    "    x = core.getXPosition()\n",
    "    y = core.getYPosition()\n",
    "    core.setXYPosition(x-1500,y)\n",
    "    core.waitForDevice(core.getXYStageDevice())\n",
    "    \n",
    "    core.snapImage()\n",
    "    img = core.getImage()\n",
    "    image = Image.fromarray(img)\n",
    "    image.save('images/images_{}.tif'.format(i))"
   ]
  },
  {
   "cell_type": "markdown",
   "metadata": {
    "deletable": true,
    "editable": true
   },
   "source": [
    "### MM Get info"
   ]
  },
  {
   "cell_type": "code",
   "execution_count": null,
   "metadata": {
    "collapsed": false,
    "deletable": true,
    "editable": true
   },
   "outputs": [],
   "source": [
    "core.getFocusDevice()\n",
    "core.getCameraDevice()\n",
    "core.XYStageDevice()\n",
    "core.getDevicePropertyNames(core.getCameraDevice())"
   ]
  },
  {
   "cell_type": "markdown",
   "metadata": {
    "deletable": true,
    "editable": true
   },
   "source": [
    "### Video"
   ]
  },
  {
   "cell_type": "code",
   "execution_count": null,
   "metadata": {
    "collapsed": false,
    "deletable": true,
    "editable": true
   },
   "outputs": [],
   "source": [
    "# cv2.startWindowThread()\n",
    "cv2.namedWindow('Video')\n",
    "cv2.imshow('Video',img)\n",
    "cv2.waitKey(0)"
   ]
  },
  {
   "cell_type": "code",
   "execution_count": null,
   "metadata": {
    "collapsed": true,
    "deletable": true,
    "editable": true
   },
   "outputs": [],
   "source": [
    "cv2.destroyAllWindows()\n",
    "core.stopSequenceAcquisition()"
   ]
  },
  {
   "cell_type": "code",
   "execution_count": null,
   "metadata": {
    "collapsed": false,
    "deletable": true,
    "editable": true
   },
   "outputs": [],
   "source": [
    "import cv2\n",
    "cv2.namedWindow('Video')\n",
    "core.startContinuousSequenceAcquisition(1)\n",
    "while True:\n",
    "    img = core.getLastImage()\n",
    "    if core.getRemainingImageCount() > 0:\n",
    "#         img = core.popNextImage()\n",
    "        img = core.getLastImage()\n",
    "        cv2.imshow('Video', img)\n",
    "        cv2.waitkey(0)\n",
    "    else:\n",
    "        print('No frame')\n",
    "    if cv2.waitKey(20) >= 0:\n",
    "        break\n",
    "cv2.destroyAllWindows()\n",
    "core.stopSequenceAcquisition()\n",
    "# core.reset()"
   ]
  },
  {
   "cell_type": "markdown",
   "metadata": {
    "deletable": true,
    "editable": true
   },
   "source": [
    "# EXIT"
   ]
  },
  {
   "cell_type": "code",
   "execution_count": null,
   "metadata": {
    "collapsed": false,
    "deletable": true,
    "editable": true
   },
   "outputs": [],
   "source": [
    "autosipper.exit()\n",
    "manifold.exit()\n",
    "core.unloadAllDevices()\n",
    "core.reset()\n",
    "print 'closed'"
   ]
  }
 ],
 "metadata": {
  "kernelspec": {
   "display_name": "Python 2",
   "language": "python",
   "name": "python2"
  },
  "language_info": {
   "codemirror_mode": {
    "name": "ipython",
    "version": 2
   },
   "file_extension": ".py",
   "mimetype": "text/x-python",
   "name": "python",
   "nbconvert_exporter": "python",
   "pygments_lexer": "ipython2",
   "version": "2.7.13"
  }
 },
 "nbformat": 4,
 "nbformat_minor": 2
}
