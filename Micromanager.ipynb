{
 "cells": [
  {
   "cell_type": "markdown",
   "metadata": {},
   "source": [
    "# Setup\n",
    "- Add Micromanager path to PYTHONPATH\n",
    "\n",
    "https://github.com/radioxoma/micromanager-samples/blob/master/mm_live_video.py\n",
    "\n",
    "https://micro-manager.org/wiki/Using_the_Micro-Manager_python_library#Using_Python_API\n",
    "\n",
    "https://micro-manager.org/wiki/Micro-Manager_Programming_Guide#Other\n",
    "\n",
    "\n",
    "https://valelab4.ucsf.edu/~MM/doc/MMCore/html/class_c_m_m_core.html"
   ]
  },
  {
   "cell_type": "markdown",
   "metadata": {},
   "source": [
    "# Main"
   ]
  },
  {
   "cell_type": "code",
   "execution_count": null,
   "metadata": {
    "collapsed": true
   },
   "outputs": [],
   "source": [
    "import MMCorePy\n",
    "import numpy as np\n",
    "\n",
    "# import matplotlib\n",
    "core = MMCorePy.CMMCore()\n",
    "core.loadSystemConfiguration(\"________.cfg\")\n",
    "# core.initializeAll()\n",
    "# core.setCircularBufferMemoryFootprint(4096) # MiB \n",
    "# core.setAutoShutter(True)\n",
    "\n",
    "core.snapImage()\n",
    "img = core.popLastImage()\n",
    "\n",
    "\n",
    "\n",
    "\n"
   ]
  },
  {
   "cell_type": "markdown",
   "metadata": {},
   "source": [
    "# Example: Shutter control"
   ]
  },
  {
   "cell_type": "code",
   "execution_count": null,
   "metadata": {
    "collapsed": true
   },
   "outputs": [],
   "source": [
    "# SHUTTER\n",
    "\n",
    "# Auto\n",
    "core.setAutoShutter(True)\n",
    "core.snapImage()\n",
    "\n",
    "# Manual\n",
    "core.setAutoShutter(False) # disable auto shutter\n",
    "core.setProperty(\"Shutter\", \"State\", \"1\")\n",
    "core.waitForDevice(\"Shutter\")\n",
    "core.snapImage()\n",
    "core.setProperty(\"Shutter\", \"State\", \"0\")"
   ]
  },
  {
   "cell_type": "markdown",
   "metadata": {},
   "source": [
    "# Example: Video"
   ]
  },
  {
   "cell_type": "code",
   "execution_count": null,
   "metadata": {
    "collapsed": true
   },
   "outputs": [],
   "source": [
    "cv2.namedWindow('Video')\n",
    "mmc.startContinuousSequenceAcquisition(1)\n",
    "while True:\n",
    "    rgb32 = mmc.getLastImage()\n",
    "    if mmc.getRemainingImageCount() > 0:\n",
    "        # rgb32 = mmc.popNextImage()\n",
    "        rgb32 = mmc.getLastImage()\n",
    "        # Efficient conversion without data copying.\n",
    "        bgr = rgb32.view(dtype=np.uint8).reshape(\n",
    "            rgb32.shape[0], rgb32.shape[1], 4)[..., :3]\n",
    "        cv2.imshow('Video', bgr)\n",
    "    else:\n",
    "        print('No frame')\n",
    "    if cv2.waitKey(20) >= 0:\n",
    "        break\n",
    "cv2.destroyAllWindows()\n",
    "mmc.stopSequenceAcquisition()\n",
    "mmc.reset()"
   ]
  },
  {
   "cell_type": "markdown",
   "metadata": {},
   "source": [
    "# Example: Logging"
   ]
  },
  {
   "cell_type": "code",
   "execution_count": null,
   "metadata": {
    "collapsed": true
   },
   "outputs": [],
   "source": [
    "core.enableStderrLog(True)\n",
    "core.enableDebugLog(True)"
   ]
  },
  {
   "cell_type": "markdown",
   "metadata": {},
   "source": [
    "# Example: Config, programmatic"
   ]
  },
  {
   "cell_type": "code",
   "execution_count": null,
   "metadata": {
    "collapsed": true
   },
   "outputs": [],
   "source": [
    "## load devices\n",
    "core.loadDevice(\"Camera\", \"DemoCamera\", \"DCam\")\n",
    "core.loadDevice(\"Emission\", \"DemoCamera\", \"DWheel\")\n",
    "core.loadDevice(\"Excitation\", \"DemoCamera\", \"DWheel\")\n",
    "core.loadDevice(\"Dichroic\", \"DemoCamera\", \"DWheel\")\n",
    "core.loadDevice(\"Objective\", \"DemoCamera\", \"DObjective\")\n",
    "core.loadDevice(\"X\", \"DemoCamera\", \"DStage\")\n",
    "core.loadDevice(\"Y\", \"DemoCamera\", \"DStage\")\n",
    "core.loadDevice(\"Z\", \"DemoCamera\", \"DStage\")\n",
    "core.initializeAllDevices()\n",
    "\n",
    "## set labels for state devices\n",
    "# emission filter\n",
    "core.defineStateLabel(\"Emission\", 0, \"Chroma-D460\")\n",
    "core.defineStateLabel(\"Emission\", 1, \"Chroma-HQ620\")\n",
    "core.defineStateLabel(\"Emission\", 2, \"Chroma-HQ535\")\n",
    "core.defineStateLabel(\"Emission\", 3, \"Chroma-HQ700\")\n",
    "# excitation filter\n",
    "core.defineStateLabel(\"Excitation\", 2, \"Chroma-D360\")\n",
    "core.defineStateLabel(\"Excitation\", 3, \"Chroma-HQ480\")\n",
    "core.defineStateLabel(\"Excitation\", 4, \"Chroma-HQ570\")\n",
    "core.defineStateLabel(\"Excitation\", 5, \"Chroma-HQ620\")\n",
    "# excitation dichroic\n",
    "core.defineStateLabel(\"Dichroic\", 0, \"400DCLP\")\n",
    "core.defineStateLabel(\"Dichroic\", 1, \"Q505LP\")\n",
    "core.defineStateLabel(\"Dichroic\", 2, \"Q585LP\")\n",
    "# objective\n",
    "core.defineStateLabel(\"Objective\", 1, \"Nikon 10X S Fluor\")\n",
    "core.defineStateLabel(\"Objective\", 3, \"Nikon 20X Plan Fluor ELWD\")\n",
    "core.defineStateLabel(\"Objective\", 5, \"Zeiss 4X Plan Apo\")\n",
    "\n",
    "## define configurations\n",
    "core.defineConfiguration(\"FITC\", \"Emission\", \"State\", \"2\")\n",
    "core.defineConfiguration(\"FITC\", \"Excitation\", \"State\", \"3\")\n",
    "core.defineConfiguration(\"FITC\", \"Dichroic\", \"State\", \"1\")\n",
    "core.defineConfiguration(\"DAPI\", \"Emission\", \"State\", \"1\")\n",
    "core.defineConfiguration(\"DAPI\", \"Excitation\", \"State\", \"2\")\n",
    "core.defineConfiguration(\"DAPI\", \"Dichroic\", \"State\", \"0\")\n",
    "core.defineConfiguration(\"Rhodamine\", \"Emission\", \"State\", \"3\")\n",
    "core.defineConfiguration(\"Rhodamine\", \"Excitation\", \"State\", \"4\")\n",
    "core.defineConfiguration(\"Rhodamine\", \"Dichroic\", \"State\", \"2\")\n",
    "\n",
    "## set initial imaging mode\n",
    "core.setProperty(\"Camera\", \"Exposure\", \"55\")\n",
    "core.setProperty(\"Objective\", \"Label\", \"Nikon 10X S Fluor\")\n",
    "core.setConfiguration(\"DAPI\")"
   ]
  }
 ],
 "metadata": {
  "kernelspec": {
   "display_name": "Python 2",
   "language": "python",
   "name": "python2"
  },
  "language_info": {
   "codemirror_mode": {
    "name": "ipython",
    "version": 2
   },
   "file_extension": ".py",
   "mimetype": "text/x-python",
   "name": "python",
   "nbconvert_exporter": "python",
   "pygments_lexer": "ipython2",
   "version": "2.7.13"
  }
 },
 "nbformat": 4,
 "nbformat_minor": 2
}
