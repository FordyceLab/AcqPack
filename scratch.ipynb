{
 "cells": [
  {
   "cell_type": "markdown",
   "metadata": {},
   "source": [
    "# NOTES:\n",
    "\n",
    "- Waiting vs blocking  \n",
    "--> blocking holds up everything (could be selective?)  \n",
    "--> waiting for specific resources to reach inactive state (flags?)  \n",
    "\n",
    "- Platemap vs positionmap\n",
    "- Axes orientation\n",
    "\n",
    "### TODO:\n",
    "- tip touch\n",
    "- pyVISA\n",
    "- GUI\n",
    "- try connect (error handling)\n",
    "- tip touch"
   ]
  },
  {
   "cell_type": "code",
   "execution_count": 8,
   "metadata": {
    "collapsed": false,
    "deletable": true,
    "editable": true
   },
   "outputs": [],
   "source": [
    "import ipywidgets as widgets\n",
    "import serial as s\n",
    "import yaml\n",
    "import time\n",
    "import sys\n",
    "import numpy as np\n",
    "import pandas as pd\n",
    "import csv\n",
    "from __future__ import division"
   ]
  },
  {
   "cell_type": "code",
   "execution_count": null,
   "metadata": {
    "collapsed": false,
    "deletable": true,
    "editable": true
   },
   "outputs": [],
   "source": [
    "s1 = s.Serial(port='COM7', baudrate=9600)"
   ]
  },
  {
   "cell_type": "code",
   "execution_count": null,
   "metadata": {
    "collapsed": false
   },
   "outputs": [],
   "source": [
    "s1.close()"
   ]
  },
  {
   "cell_type": "code",
   "execution_count": null,
   "metadata": {
    "collapsed": false,
    "deletable": true,
    "editable": true
   },
   "outputs": [],
   "source": [
    "# cmd = '/1Z2025000R'\n",
    "# s1.write(cmd +'\\r')\n",
    "# time.sleep(0.2)\n",
    "cmd = '/1QR'\n",
    "s1.write(cmd +'\\r')\n",
    "time.sleep(0.2)\n",
    "stri = s1.read(s1.inWaiting())\n",
    "print stri.decode('utf8', 'ignore')"
   ]
  },
  {
   "cell_type": "code",
   "execution_count": null,
   "metadata": {
    "collapsed": false,
    "deletable": true,
    "editable": true
   },
   "outputs": [],
   "source": [
    "cmd = '/1P500000R'\n",
    "s1.write(cmd +'\\r')\n",
    "time.sleep(0.2)\n",
    "stri = s1.read(s1.inWaiting())\n",
    "print stri.decode('utf8', 'ignore')"
   ]
  },
  {
   "cell_type": "code",
   "execution_count": null,
   "metadata": {
    "collapsed": false,
    "deletable": true,
    "editable": true
   },
   "outputs": [],
   "source": [
    "cmd = '/1V50000R'\n",
    "s1.write(cmd +'\\r')\n",
    "time.sleep(0.2)\n",
    "stri = s1.read(s1.inWaiting())\n",
    "print stri.decode('utf8', 'ignore')"
   ]
  },
  {
   "cell_type": "code",
   "execution_count": null,
   "metadata": {
    "collapsed": true
   },
   "outputs": [],
   "source": [
    "s2 = s.Serial(port='COM6', baudrate=115200)"
   ]
  },
  {
   "cell_type": "code",
   "execution_count": null,
   "metadata": {
    "collapsed": true
   },
   "outputs": [],
   "source": [
    "s2.close()"
   ]
  },
  {
   "cell_type": "markdown",
   "metadata": {
    "deletable": true,
    "editable": true
   },
   "source": [
    "# MOTOR\n",
    "Lin Engineering \n",
    "1. Determine appropriate velocity_max = microsteps/sec\n",
    "2. Determine motor limits\n",
    "3. Determine conv = microsteps/mm\n",
    "4. Determine orientation (P+; D-)"
   ]
  },
  {
   "cell_type": "code",
   "execution_count": 2,
   "metadata": {
    "collapsed": false,
    "deletable": true,
    "editable": true
   },
   "outputs": [],
   "source": [
    "class Motor:\n",
    "    def __init__(self, configFile, init=True):\n",
    "        \n",
    "#         f = open(configFile, 'r')\n",
    "#         self.config = yaml.load(f)\n",
    "        self.serial = s.Serial() # placeholder\n",
    "        self.serial = s.Serial(port='COM7', baudrate=9600)\n",
    "        \n",
    "        self.prefix = '/1'\n",
    "        self.terminator = '\\r'\n",
    "        self.conv = 2e6/99.24 # usteps/mm\n",
    "        self.velocity_default = 1525320 # usteps/sec (75.6863784 mm/sec)\n",
    "        self.velocity_limit = int(self.velocity_default/3) # usteps/sec\n",
    "        self.ustep_max = 2025000 # usteps 100.48 mm\n",
    "        self.ustep_min = 0\n",
    "\n",
    "        if init:\n",
    "            self.initialize()\n",
    "\n",
    "    def initialize(self):\n",
    "#         self.serial = s.Serial(**self.config['serial']) # open serial connection\n",
    "        pass # TODO set moving current\n",
    "        pass # TODO set holding current\n",
    "        self.set_velocity(self.velocity_limit)  # set velocity\n",
    "        self.home() # move motor to home\n",
    "        \n",
    "    def cmd(self, cmd_string, block=True):\n",
    "        full_string = self.prefix + cmd_string + self.terminator\n",
    "        self.serial.write(full_string)\n",
    "        repr(full_string)\n",
    "        time.sleep(0.15) # TODO: monitor for response?\n",
    "        response = self.serial.read(self.serial.inWaiting()).decode('utf8', 'ignore')\n",
    "        \n",
    "        while block and self.is_busy():\n",
    "            pass\n",
    "           \n",
    "        return response\n",
    "    \n",
    "#     # TEST cmd that prints full_string \n",
    "#     def cmd(self, cmd_string):\n",
    "#         full_string = self.prefix + cmd_string + self.terminator\n",
    "#         print full_string\n",
    "    \n",
    "    # velocity: (usteps/sec) \n",
    "    def set_velocity(self, velocity):\n",
    "        if velocity > self.velocity_limit:\n",
    "            velocity = self.velocity_limit\n",
    "            print 'ERR: Desired velocity exceeds velocity_limit; velocity now set to velocity_limit'\n",
    "            \n",
    "        cmd_string = 'V{}R'.format(velocity)\n",
    "        return self.cmd(cmd_string)\n",
    "    \n",
    "    def is_busy(self):\n",
    "        cmd_string = '/1Q'\n",
    "        time.sleep(0.05)\n",
    "        response = self.cmd('/1Q', False)\n",
    "        return response.rfind('`') == -1\n",
    "            \n",
    "    def halt(self):\n",
    "        cmd_string = 'T'\n",
    "        self.cmd(cmd_string)\n",
    "    \n",
    "    def home(self):\n",
    "        cmd_string = 'Z{}R'.format(self.ustep_max)\n",
    "        return self.cmd(cmd_string)\n",
    "    \n",
    "    # absolute\n",
    "    def move(self, mm, block=True):\n",
    "        ustep = int(self.conv*mm)\n",
    "        if ustep > self.ustep_max:\n",
    "            ustep = self.ustep_max\n",
    "            print 'ERR: Desired move to {} mm exceeds max of {} mm; moving to max instead'.format(mm, self.ustep_max/self.conv)\n",
    "        if ustep < self.ustep_min:\n",
    "            ustep = self.ustep_min\n",
    "            print 'ERR: Desired move to {} mm exceeds min of {} mm; moving to min instead'.format(mm, self.ustep_min/self.conv)\n",
    "            \n",
    "        cmd_string = 'A{}R'.format(ustep)\n",
    "        \n",
    "        return self.cmd(cmd_string, block)\n",
    "        \n",
    "    # TODO: Try P with negative numbers?\n",
    "    def move_relative(self, mm):\n",
    "        ustep = int(self.conv*mm)\n",
    "        ustep_current = int(self.ustep_max/2)  # TODO: limit movement (+ and -)\n",
    "        \n",
    "        if mm >= 0:\n",
    "            if (ustep_current + ustep) > self.ustep_max:\n",
    "                ustep = self.ustep_max - ustep_current\n",
    "                print 'ERR: Desired move of +{} mm exceeds max of {} mm; moving to max instead'.format(mm, self.ustep_max/self.conv)\n",
    "            cmd_string = 'P{}R'.format(ustep)\n",
    "        \n",
    "        else:\n",
    "            if (ustep_current + ustep) < self.ustep_min:\n",
    "                ustep = self.ustep_min - ustep_current\n",
    "                print 'ERR: Desired move of {} mm exceeds min of {} mm; moving to min instead'.format(mm, self.ustep_min/self.conv)\n",
    "            ustep = -1*ustep\n",
    "            cmd_string = 'D{}R'.format(ustep)\n",
    "        \n",
    "        return self.cmd(cmd_string)\n",
    "    \n",
    "    def exit(self):\n",
    "        self.serial.close()\n"
   ]
  },
  {
   "cell_type": "code",
   "execution_count": null,
   "metadata": {
    "collapsed": false,
    "deletable": true,
    "editable": true
   },
   "outputs": [],
   "source": [
    "m = Motor('blah')"
   ]
  },
  {
   "cell_type": "code",
   "execution_count": null,
   "metadata": {
    "collapsed": false,
    "deletable": true,
    "editable": true
   },
   "outputs": [],
   "source": [
    "m.move(23)\n",
    "# time.sleep(1)\n",
    "# m.move(10)"
   ]
  },
  {
   "cell_type": "code",
   "execution_count": null,
   "metadata": {
    "collapsed": false,
    "deletable": true,
    "editable": true
   },
   "outputs": [],
   "source": [
    "m.home()"
   ]
  },
  {
   "cell_type": "code",
   "execution_count": null,
   "metadata": {
    "collapsed": false,
    "deletable": true,
    "editable": true
   },
   "outputs": [],
   "source": [
    "print m.move(32)\n",
    "time.sleep(1)\n",
    "print m.move(20)"
   ]
  },
  {
   "cell_type": "code",
   "execution_count": null,
   "metadata": {
    "collapsed": false,
    "deletable": true,
    "editable": true
   },
   "outputs": [],
   "source": [
    "print m.cmd('P100000D100000P100000D100000P100000D100000P100000D100000R')\n",
    "print m.cmd('/1?0')"
   ]
  },
  {
   "cell_type": "code",
   "execution_count": null,
   "metadata": {
    "collapsed": false,
    "deletable": true,
    "editable": true
   },
   "outputs": [],
   "source": [
    "m.exit()"
   ]
  },
  {
   "cell_type": "markdown",
   "metadata": {
    "deletable": true,
    "editable": true
   },
   "source": [
    "# ASI Controller\n",
    "Applied Scientific Instrumentation\n",
    "\n",
    "1. Set hall effect sensors to appropriate limits\n",
    "2. Determine orientation (X+-, Y+-)"
   ]
  },
  {
   "cell_type": "code",
   "execution_count": 3,
   "metadata": {
    "collapsed": false,
    "deletable": true,
    "editable": true
   },
   "outputs": [],
   "source": [
    "# TODO: Fix serial.read encoding\n",
    "# TODO: better busy handling\n",
    "class ASI_Controller:\n",
    "    def __init__(self, configFile, init=True):\n",
    "        f = open(configFile, 'r')\n",
    "        self.config = yaml.load(f)\n",
    "        self.serial = s.Serial() # placeholder\n",
    "        self.plateMap = None\n",
    "\n",
    "        if init:\n",
    "            self.initialize()\n",
    "\n",
    "\n",
    "    def initialize(self):\n",
    "        self.serial = s.Serial(**self.config['serial']) # open serial connection\n",
    "\n",
    "        self.cmd_xy('mc x+ y+')  # enable motor control for xy\n",
    "        self.cmd_z('mc z+') # enable motor control for z\n",
    "\n",
    "        print \"Initializing stage...\"\n",
    "        self.move_xy(2000, -2000)  # move to switch limits (bottom right)\n",
    "        self.r_xy(-0.5, 0.5)  # move from switch limits 0.5 mm\n",
    "\n",
    "        raw_input('Place dropper above well A1 (press enter when done)')\n",
    "        self.cmd_xy('here x y')  # establish current position as 0,0\n",
    "\n",
    "        \n",
    "    def cmd(self, inStr):\n",
    "        inStr = inStr + self.config['terminator']\n",
    "        self.serial.write(inStr)\n",
    "        repr(inStr)\n",
    "        time.sleep(0.05)\n",
    "        response = self.serial.read(self.serial.inWaiting())\n",
    "        return response\n",
    "\n",
    "    def cmd_xy(self, inStr, block=True):\n",
    "        inStr = '2h ' + inStr\n",
    "        response = self.cmd(inStr)\n",
    "        \n",
    "        while block and self.is_busy_xy():\n",
    "            time.sleep(0.05)\n",
    "            pass\n",
    "        \n",
    "        return response\n",
    "    \n",
    "    def is_busy_xy(self):\n",
    "        status = self.cmd('2h STATUS')[0]\n",
    "        return status == 'B'\n",
    "\n",
    "    \n",
    "    def cmd_z(self, inStr, block=True):\n",
    "        while block and self.is_busy_z():\n",
    "            time.sleep(0.3)\n",
    "        inStr = '1h ' + inStr\n",
    "        return self.cmd(inStr)\n",
    "\n",
    "    def is_busy_z(self):\n",
    "        status = self.cmd('1h STATUS')[0]\n",
    "        return status == 'B'\n",
    "\n",
    "    def halt(self):\n",
    "        self.halt_xy()\n",
    "        self.halt_z()\n",
    "\n",
    "    def halt_xy(self):\n",
    "        self.cmd_xy('HALT', False)\n",
    "\n",
    "    def halt_z(self):\n",
    "        self.cmd_z('HALT', False)\n",
    "\n",
    "    def r_xy(self, x_mm, y_mm):\n",
    "        conv = self.config['conv']\n",
    "        xStr = 'x=' + str(float(x_mm) * conv)\n",
    "        yStr = 'y=' + str(float(y_mm) * conv)\n",
    "        return self.cmd_xy(' '.join(['r', xStr, yStr]))\n",
    "\n",
    "    def r_z(self, z_mm):\n",
    "        conv = self.config['conv']\n",
    "        zStr = 'z=' + str(float(z_mm) * conv)\n",
    "        return self.cmd_z(' '.join(['r', zStr]))\n",
    "\n",
    "    def move_xy(self, x_mm, y_mm):\n",
    "        conv = self.config['conv']\n",
    "        xStr = 'x=' + str(float(x_mm) * conv)\n",
    "        yStr = 'y=' + str(float(y_mm) * conv)\n",
    "        return self.cmd_xy(' '.join(['m', xStr, yStr]))\n",
    "\n",
    "    def move_z(self, z_mm):\n",
    "        conv = self.config['conv']\n",
    "        zStr = 'z=' + str(float(z_mm) * conv)\n",
    "        return self.cmd_z(' '.join(['m', zStr]))\n",
    "\n",
    "    def exit(self):\n",
    "        self.serial.close()\n",
    "\n",
    "\n",
    "\n"
   ]
  },
  {
   "cell_type": "code",
   "execution_count": null,
   "metadata": {
    "collapsed": false,
    "deletable": true,
    "editable": true
   },
   "outputs": [],
   "source": [
    "a = ASI_Controller('components/controller.config')"
   ]
  },
  {
   "cell_type": "code",
   "execution_count": null,
   "metadata": {
    "collapsed": true,
    "deletable": true,
    "editable": true
   },
   "outputs": [],
   "source": [
    "a.exit()"
   ]
  },
  {
   "cell_type": "markdown",
   "metadata": {
    "deletable": true,
    "editable": true
   },
   "source": [
    "# Autosipper"
   ]
  },
  {
   "cell_type": "code",
   "execution_count": 4,
   "metadata": {
    "collapsed": true,
    "deletable": true,
    "editable": true
   },
   "outputs": [],
   "source": [
    "# I: filepath of delimited file\n",
    "# P: detect delimiter/header read file accordingly\n",
    "# O: list of records (no header)\n",
    "def read_delim(filepath):\n",
    "    f = open(filepath, 'r')\n",
    "    dialect = csv.Sniffer().sniff(f.read(1024))\n",
    "    f.seek(0)\n",
    "    hasHeader = csv.Sniffer().has_header(f.read(1024))\n",
    "    f.seek(0)\n",
    "    reader = csv.reader(f, dialect)\n",
    "\n",
    "    if hasHeader:\n",
    "        reader.next()\n",
    "\n",
    "    ret = [line for line in reader]\n",
    "    return ret\n",
    "\n",
    "def read_delim_pd(filepath):\n",
    "    f = open(filepath)\n",
    "    has_header = None\n",
    "    if csv.Sniffer().has_header(f.read(1024)):\n",
    "        has_header = 0\n",
    "    f.seek(0)\n",
    "    return pd.read_csv(f, header=has_header, sep=None, engine='python')\n",
    "\n",
    "\n",
    "def lookup(table, columns, values):\n",
    "    temp_df = pd.DataFrame(data=[values], columns = columns, copy=False)\n",
    "    return table.merge(temp_df, copy=False)"
   ]
  },
  {
   "cell_type": "code",
   "execution_count": 5,
   "metadata": {
    "collapsed": true,
    "deletable": true,
    "editable": true
   },
   "outputs": [],
   "source": [
    "class Autosipper():\n",
    "    def __init__(self):\n",
    "        # add Motor\n",
    "        # add ASI_Controller\n",
    "        self.Z = Motor('blah')\n",
    "        self.XY = ASI_Controller('components/controller.config')\n",
    "\n",
    "        \n",
    "        while True:\n",
    "            fp = raw_input('Type in plate map file:')\n",
    "            try:\n",
    "                self.load_platemap(fp)  # load platemap\n",
    "                break\n",
    "            except IOError:\n",
    "                print 'No file', fp\n",
    "\n",
    "        raw_input('Place dropper above well A1 (press enter when done)')\n",
    "        self.XY.cmd_xy('here x y')  # establish current position as 0,0\n",
    "        \n",
    "    def calibrate():\n",
    "        pass\n",
    "    \n",
    "    def load_platemap(self, filepath):\n",
    "        self.platemap = read_delim_pd(filepath)\n",
    "\n",
    "    def go_to(self, columns, values):\n",
    "        x1,y1,z1 = np.array(lookup(self.platemap, columns, values)[['x','y','z']])[0]\n",
    "\n",
    "        self.Z.home() # move needle to travel height (blocking)\n",
    "        self.XY.move_xy(x1,y1) # move stage (blocking)\n",
    "        self.Z.move(z1) # move needle to bottom of well (blocking)\n",
    "    \n",
    "    def exit(self):\n",
    "        self.XY.exit()\n",
    "        self.Z.exit()\n",
    "            "
   ]
  },
  {
   "cell_type": "code",
   "execution_count": 14,
   "metadata": {
    "collapsed": false
   },
   "outputs": [
    {
     "name": "stdout",
     "output_type": "stream",
     "text": [
      "Initializing stage...\n",
      "Place dropper above well A1 (press enter when done)\n",
      "Type in plate map file:platemaps/test.csv\n",
      "Place dropper above well A1 (press enter when done)\n"
     ]
    }
   ],
   "source": [
    "d = Autosipper()"
   ]
  },
  {
   "cell_type": "code",
   "execution_count": null,
   "metadata": {
    "collapsed": true
   },
   "outputs": [],
   "source": [
    "d.platemap"
   ]
  },
  {
   "cell_type": "code",
   "execution_count": 29,
   "metadata": {
    "collapsed": false
   },
   "outputs": [],
   "source": [
    "d.go_to(['n'],16)"
   ]
  },
  {
   "cell_type": "code",
   "execution_count": null,
   "metadata": {
    "collapsed": false
   },
   "outputs": [],
   "source": [
    "d.Z.move(10)\n",
    "d.Z.move(30)"
   ]
  },
  {
   "cell_type": "code",
   "execution_count": 13,
   "metadata": {
    "collapsed": false
   },
   "outputs": [],
   "source": [
    "d.exit()"
   ]
  },
  {
   "cell_type": "markdown",
   "metadata": {
    "collapsed": true,
    "deletable": true,
    "editable": true
   },
   "source": [
    "# PlatemapGen"
   ]
  },
  {
   "cell_type": "markdown",
   "metadata": {
    "deletable": true,
    "editable": true
   },
   "source": [
    "## Calibration procedure:\n",
    "Could also have dedicated reference position.   \n",
    "PositionMap describes the whole deck layout. \n",
    "Define XYZ limits\n",
    "Define travel height as min\n",
    "1. Move needle tip to some reference point (e.g. center-bottom of well A01 of top plate). Record $X_r$ $Y_r$ $Z_r$.\n",
    "2. Move\n",
    "\n",
    "Define limits of hardware"
   ]
  },
  {
   "cell_type": "code",
   "execution_count": 6,
   "metadata": {
    "collapsed": false,
    "deletable": true,
    "editable": true,
    "scrolled": true
   },
   "outputs": [
    {
     "name": "stdout",
     "output_type": "stream",
     "text": [
      "n s r c name x y z\n",
      "0 0 0 0 A01 0 0 30\n",
      "1 1 0 1 A02 0 9 30\n",
      "2 2 0 2 A03 0 18 30\n",
      "3 3 0 3 A04 0 27 30\n",
      "4 4 0 4 A05 0 36 30\n",
      "5 5 0 5 A06 0 45 30\n",
      "6 6 0 6 A07 0 54 30\n",
      "7 7 0 7 A08 0 63 30\n",
      "8 8 0 8 A09 0 72 30\n",
      "9 9 0 9 A10 0 81 30\n",
      "10 10 0 10 A11 0 90 30\n",
      "11 11 0 11 A12 0 99 30\n",
      "8 23 1 0 B01 9 0 30\n",
      "9 22 1 1 B02 9 9 30\n",
      "10 21 1 2 B03 9 18 30\n",
      "11 20 1 3 B04 9 27 30\n",
      "12 19 1 4 B05 9 36 30\n",
      "13 18 1 5 B06 9 45 30\n",
      "14 17 1 6 B07 9 54 30\n",
      "15 16 1 7 B08 9 63 30\n",
      "16 15 1 8 B09 9 72 30\n",
      "17 14 1 9 B10 9 81 30\n",
      "18 13 1 10 B11 9 90 30\n",
      "19 12 1 11 B12 9 99 30\n",
      "16 24 2 0 C01 18 0 30\n",
      "17 25 2 1 C02 18 9 30\n",
      "18 26 2 2 C03 18 18 30\n",
      "19 27 2 3 C04 18 27 30\n",
      "20 28 2 4 C05 18 36 30\n",
      "21 29 2 5 C06 18 45 30\n",
      "22 30 2 6 C07 18 54 30\n",
      "23 31 2 7 C08 18 63 30\n",
      "24 32 2 8 C09 18 72 30\n",
      "25 33 2 9 C10 18 81 30\n",
      "26 34 2 10 C11 18 90 30\n",
      "27 35 2 11 C12 18 99 30\n",
      "24 47 3 0 D01 27 0 30\n",
      "25 46 3 1 D02 27 9 30\n",
      "26 45 3 2 D03 27 18 30\n",
      "27 44 3 3 D04 27 27 30\n",
      "28 43 3 4 D05 27 36 30\n",
      "29 42 3 5 D06 27 45 30\n",
      "30 41 3 6 D07 27 54 30\n",
      "31 40 3 7 D08 27 63 30\n",
      "32 39 3 8 D09 27 72 30\n",
      "33 38 3 9 D10 27 81 30\n",
      "34 37 3 10 D11 27 90 30\n",
      "35 36 3 11 D12 27 99 30\n",
      "32 48 4 0 E01 36 0 30\n",
      "33 49 4 1 E02 36 9 30\n",
      "34 50 4 2 E03 36 18 30\n",
      "35 51 4 3 E04 36 27 30\n",
      "36 52 4 4 E05 36 36 30\n",
      "37 53 4 5 E06 36 45 30\n",
      "38 54 4 6 E07 36 54 30\n",
      "39 55 4 7 E08 36 63 30\n",
      "40 56 4 8 E09 36 72 30\n",
      "41 57 4 9 E10 36 81 30\n",
      "42 58 4 10 E11 36 90 30\n",
      "43 59 4 11 E12 36 99 30\n",
      "40 71 5 0 F01 45 0 30\n",
      "41 70 5 1 F02 45 9 30\n",
      "42 69 5 2 F03 45 18 30\n",
      "43 68 5 3 F04 45 27 30\n",
      "44 67 5 4 F05 45 36 30\n",
      "45 66 5 5 F06 45 45 30\n",
      "46 65 5 6 F07 45 54 30\n",
      "47 64 5 7 F08 45 63 30\n",
      "48 63 5 8 F09 45 72 30\n",
      "49 62 5 9 F10 45 81 30\n",
      "50 61 5 10 F11 45 90 30\n",
      "51 60 5 11 F12 45 99 30\n",
      "48 72 6 0 G01 54 0 30\n",
      "49 73 6 1 G02 54 9 30\n",
      "50 74 6 2 G03 54 18 30\n",
      "51 75 6 3 G04 54 27 30\n",
      "52 76 6 4 G05 54 36 30\n",
      "53 77 6 5 G06 54 45 30\n",
      "54 78 6 6 G07 54 54 30\n",
      "55 79 6 7 G08 54 63 30\n",
      "56 80 6 8 G09 54 72 30\n",
      "57 81 6 9 G10 54 81 30\n",
      "58 82 6 10 G11 54 90 30\n",
      "59 83 6 11 G12 54 99 30\n",
      "56 95 7 0 H01 63 0 30\n",
      "57 94 7 1 H02 63 9 30\n",
      "58 93 7 2 H03 63 18 30\n",
      "59 92 7 3 H04 63 27 30\n",
      "60 91 7 4 H05 63 36 30\n",
      "61 90 7 5 H06 63 45 30\n",
      "62 89 7 6 H07 63 54 30\n",
      "63 88 7 7 H08 63 63 30\n",
      "64 87 7 8 H09 63 72 30\n",
      "65 86 7 9 H10 63 81 30\n",
      "66 85 7 10 H11 63 90 30\n",
      "67 84 7 11 H12 63 99 30\n"
     ]
    }
   ],
   "source": [
    "# I:\n",
    "# row_col_num: (ct, ct) 2-tuple of \n",
    "# row_col_spacing: (mm, mm)\n",
    "# well_top_bottom_diameter: (mm, mm, mm)\n",
    "# O: \n",
    "def generate_platemap(row_col_num, row_col_spacing, well_top_bottom_diameter):\n",
    "    print 'n','s','r','c','name','x','y','z'\n",
    "    for r in range(row_col_num[0]):\n",
    "        for c in range(row_col_num[1]):\n",
    "            n = c + (r)*row_col_num[0]\n",
    "            s = ((r+1)%2)*(c + r*row_col_num[1]) + (r%2)*((r+1)*row_col_num[1] - (c+1))\n",
    "            name = chr(64+r+1) + '{:02d}'.format(c+1)\n",
    "            x = r*row_col_spacing[0]\n",
    "            y = c*row_col_spacing[1]\n",
    "            z = well_top_bottom_diameter[1]\n",
    "            print n, s, r, c, name, x, y, z\n",
    "\n",
    "row_col_num = 8,12\n",
    "row_col_spacing = 9,9\n",
    "well_top_bottom_diameter = 18,30,8\n",
    "generate_platemap(row_col_num, row_col_spacing, well_top_bottom_diameter)"
   ]
  },
  {
   "cell_type": "markdown",
   "metadata": {
    "deletable": true,
    "editable": true
   },
   "source": [
    "# Communication: PyVISA"
   ]
  },
  {
   "cell_type": "markdown",
   "metadata": {
    "collapsed": false,
    "deletable": true,
    "editable": true
   },
   "source": [
    "Install NI-VISA:\n",
    "https://pyvisa.readthedocs.io/en/stable/getting_nivisa.html"
   ]
  },
  {
   "cell_type": "code",
   "execution_count": null,
   "metadata": {
    "collapsed": true,
    "deletable": true,
    "editable": true
   },
   "outputs": [],
   "source": [
    "import visa"
   ]
  },
  {
   "cell_type": "code",
   "execution_count": null,
   "metadata": {
    "collapsed": false,
    "deletable": true,
    "editable": true
   },
   "outputs": [],
   "source": [
    "rm = visa.ResourceManager()"
   ]
  },
  {
   "cell_type": "code",
   "execution_count": null,
   "metadata": {
    "collapsed": false,
    "deletable": true,
    "editable": true
   },
   "outputs": [],
   "source": [
    "rm.list_resources()"
   ]
  },
  {
   "cell_type": "code",
   "execution_count": null,
   "metadata": {
    "collapsed": false,
    "deletable": true,
    "editable": true
   },
   "outputs": [],
   "source": [
    "rm.list_resources_info()"
   ]
  },
  {
   "cell_type": "markdown",
   "metadata": {
    "deletable": true,
    "editable": true
   },
   "source": [
    "# Documentation: Sphinx"
   ]
  },
  {
   "cell_type": "markdown",
   "metadata": {
    "deletable": true,
    "editable": true
   },
   "source": [
    "http://thomas-cokelaer.info/tutorials/sphinx/docstring_python.html"
   ]
  },
  {
   "cell_type": "markdown",
   "metadata": {
    "deletable": true,
    "editable": true
   },
   "source": [
    "# GUI: pywidgets.interact"
   ]
  },
  {
   "cell_type": "markdown",
   "metadata": {
    "deletable": true,
    "editable": true
   },
   "source": [
    "http://ipywidgets.readthedocs.io/en/latest/examples/Widget%20List.html"
   ]
  },
  {
   "cell_type": "code",
   "execution_count": 31,
   "metadata": {
    "collapsed": false
   },
   "outputs": [],
   "source": [
    "from IPython.display import display"
   ]
  },
  {
   "cell_type": "code",
   "execution_count": 170,
   "metadata": {
    "collapsed": false
   },
   "outputs": [],
   "source": [
    "x_minus = widgets.Button(\n",
    "    description='<',\n",
    "    disabled=False,\n",
    "    button_style='',\n",
    "    icon='check')\n",
    "\n",
    "x_plus = widgets.Button(\n",
    "    description='>',\n",
    "    disabled=False,\n",
    "    button_style='',\n",
    "    icon='check')\n",
    "\n",
    "y_minus = widgets.Button(\n",
    "    description='^',\n",
    "    disabled=False,\n",
    "    button_style='', \n",
    "    icon='check', )\n",
    "\n",
    "y_plus = widgets.Button(\n",
    "    description='v',\n",
    "    disabled=False,\n",
    "    button_style='',\n",
    "    icon='check')\n",
    "\n",
    "xy_slider = widgets.VBox([widgets.FloatText(description='speed', width='50%',value=50),widgets.IntSlider(width=130, step=10)])\n",
    "xy_cluster = widgets.VBox([ widgets.HBox([x_minus,x_plus]), widgets.HBox([y_minus, y_plus]) ])\n",
    "\n",
    "\n",
    "z_minus = widgets.Button(\n",
    "    description='^',\n",
    "    disabled=False,\n",
    "    button_style='', \n",
    "    icon='check')\n",
    "\n",
    "z_plus = widgets.Button(\n",
    "    description='v',\n",
    "    disabled=False,\n",
    "    button_style='',\n",
    "    icon='check')\n",
    "\n",
    "z_slider = widgets.VBox([widgets.FloatText(description='speed', width='50%',value=50),widgets.IntSlider(width=130, step=10)])\n",
    "z_cluster = widgets.VBox([ z_minus, z_plus])\n",
    "\n",
    "\n",
    "display(widgets.HBox([xy_cluster, xy_slider, z_cluster, z_slider]))"
   ]
  }
 ],
 "metadata": {
  "kernelspec": {
   "display_name": "Python 2",
   "language": "python",
   "name": "python2"
  },
  "language_info": {
   "codemirror_mode": {
    "name": "ipython",
    "version": 2
   },
   "file_extension": ".py",
   "mimetype": "text/x-python",
   "name": "python",
   "nbconvert_exporter": "python",
   "pygments_lexer": "ipython2",
   "version": "2.7.12"
  }
 },
 "nbformat": 4,
 "nbformat_minor": 0
}
