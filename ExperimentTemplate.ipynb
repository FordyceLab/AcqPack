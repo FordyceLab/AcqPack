{
 "cells": [
  {
   "cell_type": "markdown",
   "metadata": {},
   "source": [
    "# SETUP"
   ]
  },
  {
   "cell_type": "code",
   "execution_count": null,
   "metadata": {
    "collapsed": true
   },
   "outputs": [],
   "source": [
    "import time\n",
    "import numpy as np\n",
    "import matplotlib.pyplot as plt\n",
    "%matplotlib inline"
   ]
  },
  {
   "cell_type": "markdown",
   "metadata": {},
   "source": [
    "### Autosipper"
   ]
  },
  {
   "cell_type": "code",
   "execution_count": null,
   "metadata": {
    "collapsed": false
   },
   "outputs": [],
   "source": [
    "# config director must have \"__init__.py\" file\n",
    "# from the 'config' directory, import the following classes:\n",
    "from config import Motor, ASI_Controller, Autosipper\n",
    "from config import utils as ut\n",
    "\n",
    "autosipper = Autosipper(Motor('config/motor.yaml'), ASI_Controller('config/asi_controller.yaml'))\n",
    "autosipper.coord_frames"
   ]
  },
  {
   "cell_type": "code",
   "execution_count": null,
   "metadata": {
    "collapsed": false
   },
   "outputs": [],
   "source": [
    "# add/determine deck info\n",
    "autosipper.coord_frames.deck.position_table = ut.read_delim_pd('config/position_tables/deck')\n",
    "\n",
    "# check deck alignment\n",
    "# CLEAR DECK OF OBSTRUCTIONS!!\n",
    "autosipper.go_to('deck', ['name'],'align')"
   ]
  },
  {
   "cell_type": "code",
   "execution_count": null,
   "metadata": {
    "collapsed": true
   },
   "outputs": [],
   "source": [
    "# add plate"
   ]
  },
  {
   "cell_type": "markdown",
   "metadata": {},
   "source": [
    "### Manifold"
   ]
  },
  {
   "cell_type": "code",
   "execution_count": null,
   "metadata": {
    "collapsed": true
   },
   "outputs": [],
   "source": [
    "from config import Manifold\n",
    "\n",
    "manifold = Manifold('192.168.1.3', 'config/valvemaps/valvemap.csv', 512)\n",
    "manifold.valvemap[manifold.valvemap.name>0]"
   ]
  },
  {
   "cell_type": "markdown",
   "metadata": {},
   "source": [
    "### Micromanager"
   ]
  },
  {
   "cell_type": "code",
   "execution_count": null,
   "metadata": {
    "collapsed": false,
    "deletable": true,
    "editable": true
   },
   "outputs": [],
   "source": [
    "# !!!! Also must have MM folder on system PATH\n",
    "# mm_version = 'C:\\Micro-Manager-1.4'\n",
    "# cfg = 'C:\\Micro-Manager-1.4\\SetupNumber2_05102016.cfg'\n",
    "mm_version = 'C:\\Program Files\\Micro-Manager-2.0beta'\n",
    "cfg = 'C:\\Program Files\\Micro-Manager-2.0beta\\Setup2_20170413.cfg'\n",
    "\n",
    "import sys\n",
    "sys.path.insert(0, mm_version) # make it so python can find MMCorePy\n",
    "import MMCorePy\n",
    "\n",
    "from PIL import Image\n",
    "\n",
    "core = MMCorePy.CMMCore()\n",
    "core.loadSystemConfiguration(cfg)\n",
    "core.setProperty(\"Spectra\", \"White_Enable\", \"1\")\n",
    "core.waitForDevice(\"Spectra\")\n",
    "\n",
    "core.setProperty(\"Cam Andor_Zyla4.2\", \"Sensitivity/DynamicRange\", \"16-bit (low noise & high well capacity)\") # NEED TO SET CAMERA TO 16 BIT (ceiling 12 BIT = 4096)"
   ]
  },
  {
   "cell_type": "code",
   "execution_count": null,
   "metadata": {
    "collapsed": true
   },
   "outputs": [],
   "source": [
    "# core.initializeCircularBuffer()\n",
    "# core.setCircularBufferMemoryFootprint(4096) # MiB "
   ]
  },
  {
   "cell_type": "markdown",
   "metadata": {
    "collapsed": false,
    "deletable": true,
    "editable": true
   },
   "source": [
    "Preset: 1_PBP   \n",
    "ConfigGroup,Channel,1_PBP,TIFilterBlock1,Label,1-PBP\n",
    "\n",
    "Preset: 2_BF    \n",
    "ConfigGroup,Channel,2_BF,TIFilterBlock1,Label,2-BF\n",
    "\n",
    "Preset: 3_DAPI   \n",
    "ConfigGroup,Channel,3_DAPI,TIFilterBlock1,Label,3-DAPI\n",
    "\n",
    "Preset: 4_eGFP   \n",
    "ConfigGroup,Channel,4_eGFP,TIFilterBlock1,Label,4-GFP\n",
    "\n",
    "Preset: 5_Cy5   \n",
    "ConfigGroup,Channel,5_Cy5,TIFilterBlock1,Label,5-Cy5\n",
    "\n",
    "Preset: 6_AttoPhos   \n",
    "ConfigGroup,Channel,6_AttoPhos,TIFilterBlock1,Label,6-AttoPhos"
   ]
  },
  {
   "cell_type": "markdown",
   "metadata": {},
   "source": [
    "# EXPERIMENT"
   ]
  },
  {
   "cell_type": "code",
   "execution_count": null,
   "metadata": {
    "collapsed": true,
    "deletable": true,
    "editable": true
   },
   "outputs": [],
   "source": [
    "core.setConfig('Channel','1_PBP')"
   ]
  },
  {
   "cell_type": "code",
   "execution_count": null,
   "metadata": {
    "collapsed": true
   },
   "outputs": [],
   "source": [
    "core.setProperty(core.getCameraDevice(), \"Exposure\", 300)"
   ]
  },
  {
   "cell_type": "code",
   "execution_count": null,
   "metadata": {
    "collapsed": false,
    "deletable": true,
    "editable": true,
    "scrolled": true
   },
   "outputs": [],
   "source": [
    "core.snapImage()\n",
    "img = core.getImage()\n",
    "plt.imshow(img,cmap='gray')\n",
    "image = Image.fromarray(img)\n",
    "image.save('TESTIMAGE.tif')"
   ]
  },
  {
   "cell_type": "code",
   "execution_count": null,
   "metadata": {
    "collapsed": false,
    "deletable": true,
    "editable": true
   },
   "outputs": [],
   "source": [
    "for i in range(5):\n",
    "    x = core.getXPosition()\n",
    "    y = core.getYPosition()\n",
    "    core.setXYPosition(x-1500,y)\n",
    "    core.waitForDevice(core.getXYStageDevice())\n",
    "    \n",
    "    core.snapImage()\n",
    "    img = core.getImage()\n",
    "    image = Image.fromarray(img)\n",
    "    image.save('images/images_{}.tif'.format(i))"
   ]
  },
  {
   "cell_type": "markdown",
   "metadata": {
    "deletable": true,
    "editable": true
   },
   "source": [
    "### MM Get info"
   ]
  },
  {
   "cell_type": "code",
   "execution_count": null,
   "metadata": {
    "collapsed": false,
    "deletable": true,
    "editable": true
   },
   "outputs": [],
   "source": [
    "core.getFocusDevice()\n",
    "core.getCameraDevice()\n",
    "core.XYStageDevice()\n",
    "core.getDevicePropertyNames(core.getCameraDevice())"
   ]
  },
  {
   "cell_type": "markdown",
   "metadata": {
    "deletable": true,
    "editable": true
   },
   "source": [
    "### Video"
   ]
  },
  {
   "cell_type": "code",
   "execution_count": null,
   "metadata": {
    "collapsed": false,
    "deletable": true,
    "editable": true
   },
   "outputs": [],
   "source": [
    "# cv2.startWindowThread()\n",
    "cv2.namedWindow('Video')\n",
    "cv2.imshow('Video',img)\n",
    "cv2.waitKey(0)"
   ]
  },
  {
   "cell_type": "code",
   "execution_count": null,
   "metadata": {
    "collapsed": true,
    "deletable": true,
    "editable": true
   },
   "outputs": [],
   "source": [
    "cv2.destroyAllWindows()\n",
    "core.stopSequenceAcquisition()"
   ]
  },
  {
   "cell_type": "code",
   "execution_count": null,
   "metadata": {
    "collapsed": false,
    "deletable": true,
    "editable": true
   },
   "outputs": [],
   "source": [
    "import cv2\n",
    "cv2.namedWindow('Video')\n",
    "core.startContinuousSequenceAcquisition(1)\n",
    "while True:\n",
    "    img = core.getLastImage()\n",
    "    if core.getRemainingImageCount() > 0:\n",
    "#         img = core.popNextImage()\n",
    "        img = core.getLastImage()\n",
    "        cv2.imshow('Video', img)\n",
    "        cv2.waitkey(0)\n",
    "    else:\n",
    "        print('No frame')\n",
    "    if cv2.waitKey(20) >= 0:\n",
    "        break\n",
    "cv2.destroyAllWindows()\n",
    "core.stopSequenceAcquisition()\n",
    "# core.reset()"
   ]
  },
  {
   "cell_type": "markdown",
   "metadata": {},
   "source": [
    "# EXIT"
   ]
  },
  {
   "cell_type": "code",
   "execution_count": null,
   "metadata": {
    "collapsed": false
   },
   "outputs": [],
   "source": [
    "autosipper.exit()\n",
    "manifold.exit()\n",
    "core.unloadAllDevices()\n",
    "core.reset()\n",
    "print 'closed'"
   ]
  }
 ],
 "metadata": {
  "kernelspec": {
   "display_name": "Python 2",
   "language": "python",
   "name": "python2"
  },
  "language_info": {
   "codemirror_mode": {
    "name": "ipython",
    "version": 2
   },
   "file_extension": ".py",
   "mimetype": "text/x-python",
   "name": "python",
   "nbconvert_exporter": "python",
   "pygments_lexer": "ipython2",
   "version": "2.7.13"
  }
 },
 "nbformat": 4,
 "nbformat_minor": 2
}
