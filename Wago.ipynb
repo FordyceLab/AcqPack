{
 "cells": [
  {
   "cell_type": "markdown",
   "metadata": {},
   "source": [
    "https://github.com/FordyceLab/geppetto-cli"
   ]
  },
  {
   "cell_type": "code",
   "execution_count": 1,
   "metadata": {
    "collapsed": true
   },
   "outputs": [],
   "source": [
    "from pymodbus3.client.sync import ModbusTcpClient\n",
    "\n",
    "class Wago:\n",
    "    def __init__(self, ip):\n",
    "        self.client = client = ModbusTcpClient('ip')\n",
    "        self.load_valvemap()\n",
    "           \n",
    "    def pressurize(client, valve_number):\n",
    "        \"\"\"\n",
    "        Function to pressurize the valve of a given number\n",
    "        Args:\n",
    "        - valve_number (int): number of valve to pressurize\n",
    "        \"\"\"\n",
    "\n",
    "        # Offset the register number\n",
    "        register_number = 512 + valve_number\n",
    "\n",
    "        # Read the state of the valve in question\n",
    "        state = client.read_coils(register_number, 1).bits[0]\n",
    "\n",
    "        # Valve is currently depressurized if the register state is True\n",
    "        if state:\n",
    "            client.write_coil(valve_number, False)\n",
    "\n",
    "\n",
    "    def depressurize(client, valve_number):\n",
    "        \"\"\"\n",
    "        Function to depressurize the valve of a given number\n",
    "        Args:\n",
    "        - valve_number (int): number of valve to pressurize\n",
    "        \"\"\"\n",
    "\n",
    "        # Offset the register number\n",
    "        register_number = 512 + valve_number\n",
    "\n",
    "        # Read the state of the valve in question\n",
    "        state = client.read_coils(register_number, 1).bits[0]\n",
    "\n",
    "        # Valve is currently pressurized if the register state is False\n",
    "        if not state:\n",
    "            client.write_coil(valve_number, True)\n",
    "\n",
    "\n",
    "    def read_valve(client, register_number):\n",
    "        \"\"\"\n",
    "        Function to read a specific register number\n",
    "        Args:\n",
    "        - register_number (int): register number to read\n",
    "        Returns:\n",
    "        - state of the register (True if depressurized, False if pressurized)\n",
    "        \"\"\"\n",
    "        return client.read_coils(register_number, 1).bits[0]\n",
    "    \n",
    "    \n",
    "    def load_valvemap():\n",
    "        pass"
   ]
  },
  {
   "cell_type": "code",
   "execution_count": null,
   "metadata": {
    "collapsed": true
   },
   "outputs": [],
   "source": [
    "wago = Wago('192...........')\n",
    "wago.pressurize(1)"
   ]
  }
 ],
 "metadata": {
  "kernelspec": {
   "display_name": "Python 2",
   "language": "python",
   "name": "python2"
  },
  "language_info": {
   "codemirror_mode": {
    "name": "ipython",
    "version": 2
   },
   "file_extension": ".py",
   "mimetype": "text/x-python",
   "name": "python",
   "nbconvert_exporter": "python",
   "pygments_lexer": "ipython2",
   "version": "2.7.13"
  }
 },
 "nbformat": 4,
 "nbformat_minor": 2
}
