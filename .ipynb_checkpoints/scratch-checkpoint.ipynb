{
 "cells": [
  {
   "cell_type": "code",
   "execution_count": null,
   "metadata": {
    "collapsed": false,
    "deletable": true,
    "editable": true
   },
   "outputs": [],
   "source": [
    "import serial as s\n",
    "import time\n",
    "import sys\n",
    "import numpy as np\n",
    "import pandas as pd\n",
    "import csv\n",
    "from __future__ import division"
   ]
  },
  {
   "cell_type": "code",
   "execution_count": null,
   "metadata": {
    "collapsed": false,
    "deletable": true,
    "editable": true
   },
   "outputs": [],
   "source": [
    "# s1 = serial.Serial(port='/dev/tty.usbserial', baudrate=9600)\n",
    "s2 = s.Serial(port='COM6', baudrate=115200)"
   ]
  },
  {
   "cell_type": "code",
   "execution_count": null,
   "metadata": {
    "collapsed": false
   },
   "outputs": [],
   "source": [
    "s2.close()"
   ]
  },
  {
   "cell_type": "code",
   "execution_count": null,
   "metadata": {
    "collapsed": false,
    "deletable": true,
    "editable": true
   },
   "outputs": [],
   "source": [
    "s.close()\n",
    "# s2.close()"
   ]
  },
  {
   "cell_type": "code",
   "execution_count": null,
   "metadata": {
    "collapsed": false,
    "deletable": true,
    "editable": true
   },
   "outputs": [],
   "source": [
    "cmd = '/1Z2025000R'\n",
    "s.write(cmd +'\\r')\n",
    "t.sleep(0.2)\n",
    "stri = s.read(s.inWaiting())\n",
    "print stri.decode('utf8', 'ignore')"
   ]
  },
  {
   "cell_type": "code",
   "execution_count": null,
   "metadata": {
    "collapsed": false,
    "deletable": true,
    "editable": true
   },
   "outputs": [],
   "source": [
    "cmd = '/1P896814R'\n",
    "s.write(cmd +'\\r')\n",
    "t.sleep(0.2)\n",
    "stri = s.read(s.inWaiting())\n",
    "print stri.decode('utf8', 'ignore')"
   ]
  },
  {
   "cell_type": "code",
   "execution_count": null,
   "metadata": {
    "collapsed": false,
    "deletable": true,
    "editable": true
   },
   "outputs": [],
   "source": [
    "1525320/3"
   ]
  },
  {
   "cell_type": "markdown",
   "metadata": {
    "deletable": true,
    "editable": true
   },
   "source": [
    "# MOTOR\n",
    "Lin Engineering \n",
    "1. Determine appropriate velocity_max = microsteps/sec\n",
    "2. Determine motor limits\n",
    "3. Determine conv = microsteps/mm\n",
    "4. Determine orientation (P+; D-)"
   ]
  },
  {
   "cell_type": "code",
   "execution_count": null,
   "metadata": {
    "collapsed": false,
    "deletable": true,
    "editable": true
   },
   "outputs": [],
   "source": [
    "# TODO: check zeroing\n",
    "# TODO: busy\n",
    "class Motor:\n",
    "    def __init__(self, configFile, init=True):\n",
    "        \n",
    "#         f = open(configFile, 'r')\n",
    "#         self.config = yaml.load(f)\n",
    "        self.serial = s.Serial() # placeholder\n",
    "        self.serial = s.Serial(port='COM7', baudrate=9600)\n",
    "        \n",
    "        self.prefix = '/1'\n",
    "        self.terminator = '\\r'\n",
    "        self.conv = 2e6/99.24 # usteps/mm\n",
    "        self.velocity_default = 1525320 # usteps/sec (75.6863784 mm/sec)\n",
    "        self.velocity_limit = int(self.velocity_default/3) # usteps/sec\n",
    "        self.ustep_max = 2025000 # usteps 100.48 mm\n",
    "        self.ustep_min = 0\n",
    "\n",
    "        if init:\n",
    "            self.initialize()\n",
    "\n",
    "    def initialize(self):\n",
    "#         self.serial = s.Serial(**self.config['serial']) # open serial connection\n",
    "        pass # TODO set moving current current\n",
    "        pass # TODO set holding current\n",
    "        self.set_velocity(self.velocity_limit)  # set velocity\n",
    "        self.home() # move motor to home\n",
    "        \n",
    "    def cmd(self, cmd_string):\n",
    "        full_string = self.prefix + cmd_string + self.terminator\n",
    "        self.serial.write(full_string)\n",
    "        repr(full_string)\n",
    "        time.sleep(0.15) # TODO: monitor for response?\n",
    "        return self.serial.read(self.serial.inWaiting()).decode('utf8', 'ignore')\n",
    "    \n",
    "#     # TEST cmd that prints full_string \n",
    "#     def cmd(self, cmd_string):\n",
    "#         full_string = self.prefix + cmd_string + self.terminator\n",
    "#         print full_string\n",
    "    \n",
    "    # velocity: (usteps/sec) \n",
    "    def set_velocity(self, velocity):\n",
    "        if velocity > self.velocity_limit:\n",
    "            velocity = self.velocity_limit\n",
    "            print 'ERR: Desired velocity exceeds velocity_limit; velocity now set to velocity_limit'\n",
    "            \n",
    "        cmd_string = 'V{}R'.format(velocity)\n",
    "        return self.cmd(cmd_string)\n",
    "    \n",
    "    def halt(self):\n",
    "        cmd_string = 'T'\n",
    "        self.cmd(cmd_string)\n",
    "    \n",
    "    def home(self):\n",
    "        cmd_string = 'Z{}R'.format(self.ustep_max)\n",
    "        return self.cmd(cmd_string)\n",
    "    \n",
    "    # absolute\n",
    "    def move(self, mm):\n",
    "        ustep = int(self.conv*mm)\n",
    "        if ustep > self.ustep_max:\n",
    "            ustep = self.ustep_max\n",
    "            print 'ERR: Desired move to {} mm exceeds max of {} mm; moving to max instead'.format(mm, self.ustep_max/self.conv)\n",
    "        if ustep < self.ustep_min:\n",
    "            ustep = self.ustep_min\n",
    "            print 'ERR: Desired move to {} mm exceeds min of {} mm; moving to min instead'.format(mm, self.ustep_min/self.conv)\n",
    "            \n",
    "        cmd_string = 'A{}R'.format(ustep)\n",
    "        return self.cmd(cmd_string)\n",
    "        \n",
    "    # TODO: Try P with negative numbers?\n",
    "    def move_relative(self, mm):\n",
    "        ustep = int(self.conv*mm)\n",
    "        ustep_current = int(self.ustep_max/2)  # TODO: limit movement (+ and -)\n",
    "        \n",
    "        if mm >= 0:\n",
    "            if (ustep_current + ustep) > self.ustep_max:\n",
    "                ustep = self.ustep_max - ustep_current\n",
    "                print 'ERR: Desired move of +{} mm exceeds max of {} mm; moving to max instead'.format(mm, self.ustep_max/self.conv)\n",
    "            cmd_string = 'P{}R'.format(ustep)\n",
    "        \n",
    "        else:\n",
    "            if (ustep_current + ustep) < self.ustep_min:\n",
    "                ustep = self.ustep_min - ustep_current\n",
    "                print 'ERR: Desired move of {} mm exceeds min of {} mm; moving to min instead'.format(mm, self.ustep_min/self.conv)\n",
    "            ustep = -1*ustep\n",
    "            cmd_string = 'D{}R'.format(ustep)\n",
    "        \n",
    "        return self.cmd(cmd_string)\n",
    "    \n",
    "    def exit(self):\n",
    "        self.serial.close()\n"
   ]
  },
  {
   "cell_type": "code",
   "execution_count": null,
   "metadata": {
    "collapsed": false,
    "deletable": true,
    "editable": true
   },
   "outputs": [],
   "source": [
    "m = Motor('blah')"
   ]
  },
  {
   "cell_type": "code",
   "execution_count": null,
   "metadata": {
    "collapsed": false,
    "deletable": true,
    "editable": true
   },
   "outputs": [],
   "source": [
    "m.move(23)\n",
    "# time.sleep(1)\n",
    "# m.move(10)"
   ]
  },
  {
   "cell_type": "code",
   "execution_count": null,
   "metadata": {
    "collapsed": false,
    "deletable": true,
    "editable": true
   },
   "outputs": [],
   "source": [
    "m.home()"
   ]
  },
  {
   "cell_type": "code",
   "execution_count": null,
   "metadata": {
    "collapsed": false,
    "deletable": true,
    "editable": true
   },
   "outputs": [],
   "source": [
    "print m.move(32)\n",
    "time.sleep(1)\n",
    "print m.move(20)"
   ]
  },
  {
   "cell_type": "code",
   "execution_count": null,
   "metadata": {
    "collapsed": false,
    "deletable": true,
    "editable": true
   },
   "outputs": [],
   "source": [
    "print m.cmd('P100000D100000P100000D100000P100000D100000P100000D100000R')\n",
    "print m.cmd('/1?0')\n",
    "print m.cmd('/1?0')"
   ]
  },
  {
   "cell_type": "code",
   "execution_count": null,
   "metadata": {
    "collapsed": false,
    "deletable": true,
    "editable": true
   },
   "outputs": [],
   "source": [
    "m.exit()"
   ]
  },
  {
   "cell_type": "code",
   "execution_count": null,
   "metadata": {
    "collapsed": false,
    "deletable": true,
    "editable": true
   },
   "outputs": [],
   "source": [
    "print "
   ]
  },
  {
   "cell_type": "code",
   "execution_count": null,
   "metadata": {
    "collapsed": false,
    "deletable": true,
    "editable": true
   },
   "outputs": [],
   "source": [
    "print"
   ]
  },
  {
   "cell_type": "markdown",
   "metadata": {
    "deletable": true,
    "editable": true
   },
   "source": [
    "# ASI Controller\n",
    "Applied Scientific Instrumentation\n",
    "\n",
    "1. Set hall effect sensors to appropriate limits\n",
    "2. Determine orientation (X+-, Y+-)"
   ]
  },
  {
   "cell_type": "code",
   "execution_count": null,
   "metadata": {
    "collapsed": false,
    "deletable": true,
    "editable": true
   },
   "outputs": [],
   "source": [
    "# TODO: Fix serial.read encoding\n",
    "# TODO: better busy handling\n",
    "import serial as s\n",
    "import yaml\n",
    "import csv\n",
    "import time\n",
    "\n",
    "class ASI_Controller:\n",
    "    def __init__(self, configFile, init=True):\n",
    "        f = open(configFile, 'r')\n",
    "        self.config = yaml.load(f)\n",
    "        self.serial = s.Serial() # placeholder\n",
    "        self.plateMap = None\n",
    "\n",
    "        if init:\n",
    "            self.initialize()\n",
    "\n",
    "\n",
    "    def initialize(self):\n",
    "        self.serial = s.Serial(**self.config['serial']) # open serial connection\n",
    "\n",
    "        self.cmd_xy('mc x+ y+')  # enable motor control for xy\n",
    "        self.cmd_z('mc z+') # enable motor control for z\n",
    "\n",
    "        print \"Initializing stage...\"\n",
    "        self.move_xy(2000, -2000)  # move to switch limits (bottom right)\n",
    "        self.r_xy(-0.5, 0.5)  # move from switch limits 0.5 mm\n",
    "\n",
    "        raw_input('Place dropper above well A1 (press enter when done)')\n",
    "        self.cmd_xy('here x y')  # establish current position as 0,0\n",
    "\n",
    "    def isBusy_xy(self):\n",
    "        status = self.cmd('2h STATUS')[0]\n",
    "        return status == 'B'\n",
    "\n",
    "    def isBusy_z(self):\n",
    "        status = self.cmd('1h STATUS')[0]\n",
    "        return status == 'B'\n",
    "\n",
    "    def halt(self):\n",
    "        self.halt_xy()\n",
    "        self.halt_z()\n",
    "\n",
    "    def halt_xy(self):\n",
    "        self.cmd_xy('HALT', False)\n",
    "\n",
    "    def halt_z(self):\n",
    "        self.cmd_z('HALT', False)\n",
    "\n",
    "    def cmd(self, inStr):\n",
    "        inStr = inStr + self.config['terminator']\n",
    "        self.serial.write(inStr)\n",
    "        repr(inStr)\n",
    "        time.sleep(0.05)\n",
    "        inBytes = self.serial.inWaiting()\n",
    "        ret = self.serial.read(inBytes)\n",
    "        return ret\n",
    "\n",
    "    def cmd_xy(self, inStr, wait=True):\n",
    "        while self.isBusy_xy() and wait:\n",
    "            time.sleep(0.3)\n",
    "        inStr = '2h ' + inStr\n",
    "        return self.cmd(inStr)\n",
    "\n",
    "    def cmd_z(self, inStr, wait=True):\n",
    "        while self.isBusy_z() and wait:\n",
    "            time.sleep(0.3)\n",
    "        inStr = '1h ' + inStr\n",
    "        return self.cmd(inStr)\n",
    "\n",
    "    def r_xy(self, x_mm, y_mm):\n",
    "        conv = self.config['conv']\n",
    "        xStr = 'x=' + str(float(x_mm) * conv)\n",
    "        yStr = 'y=' + str(float(y_mm) * conv)\n",
    "        return self.cmd_xy(' '.join(['r', xStr, yStr]))\n",
    "\n",
    "    def r_z(self, z_mm):\n",
    "        conv = self.config['conv']\n",
    "        zStr = 'z=' + str(float(z_mm) * conv)\n",
    "        return self.cmd_z(' '.join(['r', zStr]))\n",
    "\n",
    "    def move_xy(self, x_mm, y_mm):\n",
    "        conv = self.config['conv']\n",
    "        xStr = 'x=' + str(float(x_mm) * conv)\n",
    "        yStr = 'y=' + str(float(y_mm) * conv)\n",
    "        return self.cmd_xy(' '.join(['m', xStr, yStr]))\n",
    "\n",
    "    def move_z(self, z_mm):\n",
    "        conv = self.config['conv']\n",
    "        zStr = 'z=' + str(float(z_mm) * conv)\n",
    "        return self.cmd_z(' '.join(['m', zStr]))\n",
    "\n",
    "    def exit(self):\n",
    "        self.serial.close()\n",
    "\n",
    "\n",
    "\n"
   ]
  },
  {
   "cell_type": "code",
   "execution_count": null,
   "metadata": {
    "collapsed": false,
    "deletable": true,
    "editable": true
   },
   "outputs": [],
   "source": [
    "a = ASI_Controller('components/controller.config')"
   ]
  },
  {
   "cell_type": "code",
   "execution_count": null,
   "metadata": {
    "collapsed": true,
    "deletable": true,
    "editable": true
   },
   "outputs": [],
   "source": [
    "a.exit()"
   ]
  },
  {
   "cell_type": "markdown",
   "metadata": {
    "deletable": true,
    "editable": true
   },
   "source": [
    "# Autosipper"
   ]
  },
  {
   "cell_type": "code",
   "execution_count": null,
   "metadata": {
    "collapsed": true,
    "deletable": true,
    "editable": true
   },
   "outputs": [],
   "source": [
    "# I: filepath of delimited file\n",
    "# P: detect delimiter/header read file accordingly\n",
    "# O: list of records (no header)\n",
    "def read_delim(filepath):\n",
    "    f = open(filepath, 'r')\n",
    "    dialect = csv.Sniffer().sniff(f.read(1024))\n",
    "    f.seek(0)\n",
    "    hasHeader = csv.Sniffer().has_header(f.read(1024))\n",
    "    f.seek(0)\n",
    "    reader = csv.reader(f, dialect)\n",
    "\n",
    "    if hasHeader:\n",
    "        reader.next()\n",
    "\n",
    "    ret = [line for line in reader]\n",
    "    return ret\n",
    "\n",
    "def read_delim_pd(filepath):\n",
    "    f = open(filepath)\n",
    "    has_header = None\n",
    "    if csv.Sniffer().has_header(f.read(1024)):\n",
    "        has_header = 0\n",
    "    f.seek(0)\n",
    "    return pd.read_csv(f, header=has_header, sep=None, engine='python')\n",
    "\n",
    "\n",
    "def lookup(columns, values):\n",
    "    temp_df = pd.DataFrame(data=[values], columns = columns, copy=False)\n",
    "    return pm.merge(temp_df, copy=False)"
   ]
  },
  {
   "cell_type": "code",
   "execution_count": null,
   "metadata": {
    "collapsed": true,
    "deletable": true,
    "editable": true
   },
   "outputs": [],
   "source": [
    "class Autosipper():\n",
    "    def __init__(self):\n",
    "        # add ASI_Controller\n",
    "        # add Motor\n",
    "        self.XY = ASI_Controller('components/controller.config')\n",
    "        self.Z = Motor('blah')\n",
    "        \n",
    "        while True:\n",
    "            fp = raw_input('Type in plate map file:')\n",
    "            try:\n",
    "                self.load_platemap(fp)  # load platemap\n",
    "                break\n",
    "            except IOError:\n",
    "                print 'No file', fp\n",
    "\n",
    "        raw_input('Place dropper above well A1 (press enter when done)')\n",
    "        self.XY.cmd_xy('here x y')  # establish current position as 0,0\n",
    "        \n",
    "    def calibrate():\n",
    "        pass\n",
    "    \n",
    "    def load_platemap(self, filepath):\n",
    "        self.plateMap = read_delim_pd(filepath)\n",
    "\n",
    "    def go_to_well(columns, values):\n",
    "        x1,y1,z1 = np.array(lookup(columns, values)[['X','Y','Z']])\n",
    "\n",
    "        X.home() # move needle to travel height (blocking)\n",
    "        XY.move_xy(x1,y1) # move stage (blocking)\n",
    "        Z.move(z1) # move needle to bottom of well (blocking)\n",
    "            "
   ]
  },
  {
   "cell_type": "code",
   "execution_count": null,
   "metadata": {
    "collapsed": false
   },
   "outputs": [],
   "source": [
    "d = Autosipper()"
   ]
  },
  {
   "cell_type": "markdown",
   "metadata": {
    "collapsed": true,
    "deletable": true,
    "editable": true
   },
   "source": [
    "# PlatemapGen"
   ]
  },
  {
   "cell_type": "markdown",
   "metadata": {
    "deletable": true,
    "editable": true
   },
   "source": [
    "## Calibration procedure:\n",
    "Could also have dedicated reference position.   \n",
    "PositionMap describes the whole deck layout. \n",
    "Define XYZ limits\n",
    "Define travel height as min\n",
    "1. Move needle tip to some reference point (e.g. center-bottom of well A01 of top plate). Record $X_r$ $Y_r$ $Z_r$.\n",
    "2. Move\n",
    "\n",
    "Define limits of hardware"
   ]
  },
  {
   "cell_type": "code",
   "execution_count": null,
   "metadata": {
    "collapsed": false,
    "deletable": true,
    "editable": true
   },
   "outputs": [],
   "source": [
    "# I:\n",
    "# row_col_num: (ct, ct) 2-tuple of \n",
    "# row_col_spacing: (mm, mm)\n",
    "# well_diameter: (mm)\n",
    "# O: \n",
    "def generate_platemap(row_col_num, row_col_spacing, well_diameter,):\n",
    "    row_col_num = 8,12 # ct, ct\n",
    "    row_col_spacing = 10,10 # mm,mm\n",
    "    well_diameter = 1 # mm\n",
    "    well_bottom = \n",
    "    well_top = \n",
    "\n",
    "    print 'n','s','r','c','name','X','Y','Z'\n",
    "    for r in range(row_col_num[0]):\n",
    "        for c in range(row_col_num[1]):\n",
    "            n = c + (r)*row_col_num[0]\n",
    "            s = ((r+1)%2)*(c + r*row_col_num[1]) + (r%2)*((r+1)*row_col_num[1] - (c+1))\n",
    "            name = chr(64+r+1) + '{:02d}'.format(c+1)\n",
    "            x = r*row_spacing\n",
    "            y = c*col_spacing\n",
    "            z = 0\n",
    "            print n, s, r, c, name, x, y, z"
   ]
  },
  {
   "cell_type": "code",
   "execution_count": null,
   "metadata": {
    "collapsed": false,
    "deletable": true,
    "editable": true
   },
   "outputs": [],
   "source": [
    "rows_cols = 8,12 # ct,ct\n",
    "top_left = 0,0 # mm,mm\n",
    "bottom_right = 75.0,110 # mm,mm\n",
    "\n",
    "tuple(np.subtract(bottom_right, top_left)/(np.subtract(rows_cols, (1,1))))"
   ]
  },
  {
   "cell_type": "markdown",
   "metadata": {
    "deletable": true,
    "editable": true
   },
   "source": [
    "# Communication: PyVISA"
   ]
  },
  {
   "cell_type": "markdown",
   "metadata": {
    "collapsed": false,
    "deletable": true,
    "editable": true
   },
   "source": [
    "Install NI-VISA:\n",
    "https://pyvisa.readthedocs.io/en/stable/getting_nivisa.html"
   ]
  },
  {
   "cell_type": "code",
   "execution_count": null,
   "metadata": {
    "collapsed": true,
    "deletable": true,
    "editable": true
   },
   "outputs": [],
   "source": [
    "import visa"
   ]
  },
  {
   "cell_type": "code",
   "execution_count": null,
   "metadata": {
    "collapsed": false,
    "deletable": true,
    "editable": true
   },
   "outputs": [],
   "source": [
    "rm = visa.ResourceManager()"
   ]
  },
  {
   "cell_type": "code",
   "execution_count": null,
   "metadata": {
    "collapsed": false,
    "deletable": true,
    "editable": true
   },
   "outputs": [],
   "source": [
    "rm.list_resources()"
   ]
  },
  {
   "cell_type": "code",
   "execution_count": null,
   "metadata": {
    "collapsed": false,
    "deletable": true,
    "editable": true
   },
   "outputs": [],
   "source": [
    "rm.list_resources_info()"
   ]
  },
  {
   "cell_type": "code",
   "execution_count": null,
   "metadata": {
    "collapsed": true,
    "deletable": true,
    "editable": true
   },
   "outputs": [],
   "source": []
  },
  {
   "cell_type": "markdown",
   "metadata": {
    "deletable": true,
    "editable": true
   },
   "source": [
    "# Documentation: Sphinx"
   ]
  },
  {
   "cell_type": "markdown",
   "metadata": {
    "deletable": true,
    "editable": true
   },
   "source": [
    "http://thomas-cokelaer.info/tutorials/sphinx/docstring_python.html"
   ]
  },
  {
   "cell_type": "markdown",
   "metadata": {
    "deletable": true,
    "editable": true
   },
   "source": [
    "# GUI: pywidgets.interact"
   ]
  },
  {
   "cell_type": "markdown",
   "metadata": {
    "deletable": true,
    "editable": true
   },
   "source": [
    "http://ipywidgets.readthedocs.io/en/latest/examples/Widget%20List.html"
   ]
  },
  {
   "cell_type": "code",
   "execution_count": null,
   "metadata": {
    "collapsed": false,
    "deletable": true,
    "editable": true,
    "scrolled": true
   },
   "outputs": [],
   "source": [
    "pm = read_delim_pd('platemaps/test.csv')\n",
    "pm"
   ]
  },
  {
   "cell_type": "code",
   "execution_count": null,
   "metadata": {
    "collapsed": false,
    "deletable": true,
    "editable": true
   },
   "outputs": [],
   "source": [
    "a[['x','y','z']][a.S==23]"
   ]
  },
  {
   "cell_type": "code",
   "execution_count": null,
   "metadata": {
    "collapsed": true,
    "deletable": true,
    "editable": true
   },
   "outputs": [],
   "source": []
  },
  {
   "cell_type": "code",
   "execution_count": null,
   "metadata": {
    "collapsed": false,
    "deletable": true,
    "editable": true,
    "scrolled": true
   },
   "outputs": [],
   "source": [
    "x,y,z = np.array(go_to_well(['N'], 0))[0]"
   ]
  },
  {
   "cell_type": "code",
   "execution_count": null,
   "metadata": {
    "collapsed": false,
    "deletable": true,
    "editable": true
   },
   "outputs": [],
   "source": [
    "np.array(a)[0]"
   ]
  },
  {
   "cell_type": "code",
   "execution_count": null,
   "metadata": {
    "collapsed": false,
    "deletable": true,
    "editable": true
   },
   "outputs": [],
   "source": [
    "y"
   ]
  },
  {
   "cell_type": "code",
   "execution_count": null,
   "metadata": {
    "collapsed": true,
    "deletable": true,
    "editable": true
   },
   "outputs": [],
   "source": []
  }
 ],
 "metadata": {
  "kernelspec": {
   "display_name": "Python 2",
   "language": "python",
   "name": "python2"
  },
  "language_info": {
   "codemirror_mode": {
    "name": "ipython",
    "version": 2
   },
   "file_extension": ".py",
   "mimetype": "text/x-python",
   "name": "python",
   "nbconvert_exporter": "python",
   "pygments_lexer": "ipython2",
   "version": "2.7.13"
  }
 },
 "nbformat": 4,
 "nbformat_minor": 0
}
