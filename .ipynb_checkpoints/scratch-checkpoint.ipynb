{
 "cells": [
  {
   "cell_type": "markdown",
   "metadata": {
    "deletable": true,
    "editable": true
   },
   "source": [
    "# NOTES:\n",
    "- Waiting vs blocking  \n",
    "--> blocking holds up everything (could be selective?)  \n",
    "--> waiting for specific resources to reach inactive state (flags?)  \n",
    "\n",
    "- Platemap vs positionmap\n",
    "- Axes orientation\n",
    "\n",
    "# TODO:\n",
    "- tip touch\n",
    "- get motor current position\n",
    "- tip touch\n",
    "- calibration\n",
    "- initialization reference\n",
    "- GUI\n",
    "- pyVISA"
   ]
  },
  {
   "cell_type": "code",
   "execution_count": 1,
   "metadata": {
    "collapsed": false,
    "deletable": true,
    "editable": true
   },
   "outputs": [],
   "source": [
    "import matplotlib.pyplot as plt\n",
    "from mpl_toolkits.mplot3d import Axes3D\n",
    "from IPython.display import display\n",
    "import ipywidgets as widgets\n",
    "import serial as s\n",
    "import yaml\n",
    "import time\n",
    "import sys\n",
    "import numpy as np\n",
    "import pandas as pd\n",
    "import csv\n",
    "from __future__ import division"
   ]
  },
  {
   "cell_type": "code",
   "execution_count": 2,
   "metadata": {
    "collapsed": true,
    "deletable": true,
    "editable": true
   },
   "outputs": [],
   "source": [
    "%matplotlib notebook"
   ]
  },
  {
   "cell_type": "markdown",
   "metadata": {
    "deletable": true,
    "editable": true
   },
   "source": [
    "# MOTOR\n",
    "Lin Engineering \n",
    "1. Determine appropriate velocity_max = microsteps/sec\n",
    "2. Determine motor limits\n",
    "3. Determine conv = microsteps/mm\n",
    "4. Determine orientation (P+; D-)"
   ]
  },
  {
   "cell_type": "code",
   "execution_count": 9,
   "metadata": {
    "collapsed": false,
    "deletable": true,
    "editable": true
   },
   "outputs": [],
   "source": [
    "# TODO: get current position for relative move\n",
    "class Motor:\n",
    "    def __init__(self, config_file, init=True):\n",
    "        self.serial = s.Serial() # placeholder\n",
    "\n",
    "        f = open(config_file, 'r')\n",
    "        self.config = yaml.load(f)\n",
    "        f.close()\n",
    "        \n",
    "        if init:\n",
    "            self.initialize()\n",
    "\n",
    "    def initialize(self):\n",
    "        self.serial = s.Serial(**self.config['serial']) # open serial connection\n",
    "        \n",
    "        # TODO set moving current\n",
    "        # TODO set holding current\n",
    "        self.set_velocity(self.config['velocity_limit'])  # set velocity\n",
    "        self.home() # move motor to home\n",
    "        \n",
    "    def cmd(self, cmd_string, block=True):\n",
    "        full_string = self.config['prefix'] + cmd_string + self.config['terminator']\n",
    "        self.serial.write(full_string)\n",
    "        \n",
    "        time.sleep(0.15) # TODO: monitor for response?\n",
    "        response = self.serial.read(self.serial.inWaiting()).decode('utf8', 'ignore')\n",
    "        \n",
    "        while block and self.is_busy():\n",
    "            pass\n",
    "           \n",
    "        return response\n",
    "    \n",
    "    def is_busy(self):\n",
    "        cmd_string = 'Q'\n",
    "        time.sleep(0.05)\n",
    "        response = self.cmd(cmd_string, False)\n",
    "        return response.rfind('`') == -1\n",
    "    \n",
    "    \n",
    "    # velocity: (usteps/sec) \n",
    "    def set_velocity(self, velocity):\n",
    "        if velocity > self.config['velocity_limit']:\n",
    "            velocity = self.config['velocity_limit']\n",
    "            print 'ERR: Desired velocity exceeds velocity_limit; velocity now set to velocity_limit'\n",
    "            \n",
    "        cmd_string = 'V{}R'.format(velocity)\n",
    "        return self.cmd(cmd_string)\n",
    "       \n",
    "    def halt(self):\n",
    "        cmd_string = 'T'\n",
    "        self.cmd(cmd_string)\n",
    "    \n",
    "    def home(self):\n",
    "        cmd_string = 'Z{}R'.format(self.config['ustep_max'])\n",
    "        return self.cmd(cmd_string)\n",
    "    \n",
    "    def move(self, mm, block=True):\n",
    "        ustep = int(self.config['conv']*mm)\n",
    "        if ustep > self.config['ustep_max']:\n",
    "            ustep = self.config['ustep_max']\n",
    "            print 'ERR: Desired move to {} mm exceeds max of {} mm; moving to max instead'.format(mm, self.config['ustep_max']/self.config['conv'])\n",
    "        if ustep < self.config['ustep_min']:\n",
    "            ustep = self.config['ustep_min']\n",
    "            print 'ERR: Desired move to {} mm exceeds min of {} mm; moving to min instead'.format(mm, self.config['ustep_min']/self.config['conv'])\n",
    "            \n",
    "        cmd_string = 'A{}R'.format(ustep)\n",
    "        \n",
    "        return self.cmd(cmd_string, block)\n",
    "        \n",
    "    def move_relative(self, mm):\n",
    "        ustep = int(self.config['conv']*mm)\n",
    "        ustep_current = int(self.config['ustep_max']/2)  # TODO: limit movement (+ and -)\n",
    "        \n",
    "        if mm >= 0:\n",
    "            if (ustep_current + ustep) > self.config['ustep_max']:\n",
    "                ustep = self.config['ustep_max'] - ustep_current\n",
    "                print 'ERR: Desired move of +{} mm exceeds max of {} mm; moving to max instead'.format(mm, self.config['ustep_max']/self.config['conv'])\n",
    "            cmd_string = 'P{}R'.format(ustep)\n",
    "        \n",
    "        else:\n",
    "            if (ustep_current + ustep) < self.config['ustep_min']:\n",
    "                ustep = self.config['ustep_min'] - ustep_current\n",
    "                print 'ERR: Desired move of {} mm exceeds min of {} mm; moving to min instead'.format(mm, self.config['ustep_min']/self.config['conv'])\n",
    "            ustep = -1*ustep\n",
    "            cmd_string = 'D{}R'.format(ustep)\n",
    "        \n",
    "        return self.cmd(cmd_string)\n",
    "    \n",
    "    def exit(self):\n",
    "        self.serial.close()"
   ]
  },
  {
   "cell_type": "code",
   "execution_count": null,
   "metadata": {
    "collapsed": false,
    "deletable": true,
    "editable": true
   },
   "outputs": [],
   "source": [
    "m = Motor('config/le_motor.yaml')"
   ]
  },
  {
   "cell_type": "code",
   "execution_count": null,
   "metadata": {
    "collapsed": false
   },
   "outputs": [],
   "source": [
    "m.serial.write('/1Q\\r')\n",
    "time.sleep(0.5)\n",
    "m.serial.read(m.serial.inWaiting())"
   ]
  },
  {
   "cell_type": "code",
   "execution_count": null,
   "metadata": {
    "collapsed": false,
    "deletable": true,
    "editable": true
   },
   "outputs": [],
   "source": [
    "m.cmd('Z1000R')"
   ]
  },
  {
   "cell_type": "code",
   "execution_count": null,
   "metadata": {
    "collapsed": false,
    "deletable": true,
    "editable": true
   },
   "outputs": [],
   "source": [
    "print m.move(32)\n",
    "time.sleep(1)\n",
    "print m.move(20)"
   ]
  },
  {
   "cell_type": "code",
   "execution_count": null,
   "metadata": {
    "collapsed": false,
    "deletable": true,
    "editable": true
   },
   "outputs": [],
   "source": [
    "print m.cmd('P100000D100000P100000D100000P100000D100000P100000D100000R')\n",
    "print m.cmd('/1?0')"
   ]
  },
  {
   "cell_type": "code",
   "execution_count": null,
   "metadata": {
    "collapsed": false,
    "deletable": true,
    "editable": true
   },
   "outputs": [],
   "source": [
    "m.exit()"
   ]
  },
  {
   "cell_type": "markdown",
   "metadata": {
    "deletable": true,
    "editable": true
   },
   "source": [
    "# ASI Controller\n",
    "Applied Scientific Instrumentation\n",
    "\n",
    "1. Set hall effect sensors to appropriate limits\n",
    "2. Determine orientation (X+-, Y+-)"
   ]
  },
  {
   "cell_type": "code",
   "execution_count": 6,
   "metadata": {
    "collapsed": false,
    "deletable": true,
    "editable": true
   },
   "outputs": [],
   "source": [
    "# TODO: Fix serial.read encoding\n",
    "class ASI_Controller:\n",
    "    def __init__(self, config_file, init=True):\n",
    "        self.serial = s.Serial() # placeholder\n",
    "        \n",
    "        f = open(config_file, 'r')\n",
    "        self.config = yaml.load(f)\n",
    "        f.close()\n",
    "        \n",
    "        if init:\n",
    "            self.initialize()\n",
    "\n",
    "    def initialize(self):\n",
    "        self.serial = s.Serial(**self.config['serial']) # open serial connection\n",
    "\n",
    "        self.cmd_xy('mc x+ y+')  # enable motor control for xy\n",
    "        self.cmd_z('mc z+') # enable motor control for z\n",
    "\n",
    "        print \"Initializing stage...\"\n",
    "        self.move_xy(2000, -2000)  # move to switch limits (bottom right)\n",
    "        self.r_xy(-0.5, 0.5)  # move from switch limits 0.5 mm\n",
    "\n",
    "\n",
    "    def cmd(self, cmd_string):\n",
    "        full_string = self.config['prefix'] + cmd_string + self.config['terminator']\n",
    "        self.serial.write(full_string)\n",
    "        time.sleep(0.05)\n",
    "        response = self.serial.read(self.serial.inWaiting())\n",
    "        return response\n",
    "    \n",
    "    def halt(self):\n",
    "        self.halt_xy()\n",
    "        self.halt_z()\n",
    "    \n",
    "    \n",
    "    # XY ----------------------------------------------\n",
    "    def cmd_xy(self, cmd_string, block=True):\n",
    "        full_string = '2h ' + cmd_string\n",
    "        response = self.cmd(full_string)\n",
    "        \n",
    "        while block and self.is_busy_xy():\n",
    "            time.sleep(0.05)\n",
    "            pass\n",
    "         \n",
    "        return response\n",
    "    \n",
    "    def is_busy_xy(self):\n",
    "        status = self.cmd('2h STATUS')[0]\n",
    "        return status == 'B'\n",
    "\n",
    "    def halt_xy(self):\n",
    "        self.cmd_xy('HALT', False)\n",
    "\n",
    "    def move_xy(self, x_mm, y_mm):\n",
    "        conv = self.config['conv']\n",
    "        xStr = 'x=' + str(float(x_mm) * conv)\n",
    "        yStr = 'y=' + str(float(y_mm) * conv)\n",
    "        return self.cmd_xy(' '.join(['m', xStr, yStr]))\n",
    "    \n",
    "    def r_xy(self, x_mm, y_mm):\n",
    "        conv = self.config['conv']\n",
    "        xStr = 'x=' + str(float(x_mm) * conv)\n",
    "        yStr = 'y=' + str(float(y_mm) * conv)\n",
    "        return self.cmd_xy(' '.join(['r', xStr, yStr]))\n",
    "\n",
    "    # Z -----------------------------------------------\n",
    "    def cmd_z(self, cmd_string, block=True):\n",
    "        while block and self.is_busy_z():\n",
    "            time.sleep(0.3)\n",
    "        full_string = '1h ' + cmd_string\n",
    "        return self.cmd(full_string)\n",
    "    \n",
    "    def is_busy_z(self):\n",
    "        status = self.cmd('1h STATUS')\n",
    "        return status[0] == 'B'\n",
    "\n",
    "    def halt_z(self):\n",
    "        self.cmd_z('HALT', False)\n",
    "    \n",
    "    def move_z(self, z_mm):\n",
    "        conv = self.config['conv']\n",
    "        zStr = 'z=' + str(float(z_mm) * conv)\n",
    "        return self.cmd_z(' '.join(['m', zStr]))   \n",
    "    \n",
    "    def r_z(self, z_mm):\n",
    "        conv = self.config['conv']\n",
    "        zStr = 'z=' + str(float(z_mm) * conv)\n",
    "        return self.cmd_z(' '.join(['r', zStr]))\n",
    "    \n",
    "    def exit(self):\n",
    "        self.serial.close()"
   ]
  },
  {
   "cell_type": "code",
   "execution_count": 4,
   "metadata": {
    "collapsed": false,
    "deletable": true,
    "editable": true,
    "scrolled": true
   },
   "outputs": [
    {
     "name": "stdout",
     "output_type": "stream",
     "text": [
      "2h mc x+ y+\n",
      "2h STATUS\n",
      "1h STATUS\n",
      "1h mc z+\n",
      "Initializing stage...\n",
      "2h m x=20000000.0 y=-20000000.0\n",
      "2h STATUS\n",
      "2h STATUS\n",
      "2h STATUS\n",
      "2h STATUS\n",
      "2h STATUS\n",
      "2h STATUS\n",
      "2h STATUS\n",
      "2h STATUS\n",
      "2h STATUS\n",
      "2h STATUS\n",
      "2h STATUS\n",
      "2h STATUS\n",
      "2h STATUS\n",
      "2h STATUS\n",
      "2h STATUS\n",
      "2h STATUS\n",
      "2h STATUS\n",
      "2h STATUS\n",
      "2h STATUS\n",
      "2h STATUS\n",
      "2h STATUS\n",
      "2h STATUS\n",
      "2h STATUS\n",
      "2h STATUS\n",
      "2h STATUS\n",
      "2h STATUS\n",
      "2h STATUS\n",
      "2h STATUS\n",
      "2h STATUS\n",
      "2h STATUS\n",
      "2h STATUS\n",
      "2h STATUS\n",
      "2h STATUS\n",
      "2h STATUS\n",
      "2h STATUS\n",
      "2h STATUS\n",
      "2h STATUS\n",
      "2h STATUS\n",
      "2h STATUS\n",
      "2h STATUS\n",
      "2h STATUS\n",
      "2h STATUS\n",
      "2h STATUS\n",
      "2h STATUS\n",
      "2h STATUS\n",
      "2h STATUS\n",
      "2h STATUS\n",
      "2h STATUS\n",
      "2h STATUS\n",
      "2h STATUS\n",
      "2h STATUS\n",
      "2h STATUS\n",
      "2h STATUS\n",
      "2h STATUS\n",
      "2h STATUS\n",
      "2h STATUS\n",
      "2h STATUS\n",
      "2h STATUS\n",
      "2h STATUS\n",
      "2h STATUS\n",
      "2h r x=-5000.0 y=5000.0\n",
      "2h STATUS\n",
      "2h STATUS\n",
      "2h STATUS\n"
     ]
    }
   ],
   "source": [
    "a = ASI_Controller('config/asi_controller.yaml')"
   ]
  },
  {
   "cell_type": "code",
   "execution_count": 5,
   "metadata": {
    "collapsed": true,
    "deletable": true,
    "editable": true
   },
   "outputs": [],
   "source": [
    "a.exit()"
   ]
  },
  {
   "cell_type": "markdown",
   "metadata": {
    "deletable": true,
    "editable": true
   },
   "source": [
    "# Autosipper"
   ]
  },
  {
   "cell_type": "code",
   "execution_count": 7,
   "metadata": {
    "collapsed": true,
    "deletable": true,
    "editable": true
   },
   "outputs": [],
   "source": [
    "# I: filepath of delimited file\n",
    "# P: detect delimiter/header read file accordingly\n",
    "# O: list of records (no header)\n",
    "def read_delim(filepath):\n",
    "    f = open(filepath, 'r')\n",
    "    dialect = csv.Sniffer().sniff(f.read(1024))\n",
    "    f.seek(0)\n",
    "    hasHeader = csv.Sniffer().has_header(f.read(1024))\n",
    "    f.seek(0)\n",
    "    reader = csv.reader(f, dialect)\n",
    "\n",
    "    if hasHeader:\n",
    "        reader.next()\n",
    "\n",
    "    ret = [line for line in reader]\n",
    "    return ret\n",
    "\n",
    "def read_delim_pd(filepath):\n",
    "    f = open(filepath)\n",
    "    has_header = None\n",
    "    if csv.Sniffer().has_header(f.read(1024)):\n",
    "        has_header = 0\n",
    "    f.seek(0)\n",
    "    return pd.read_csv(f, header=has_header, sep=None, engine='python')\n",
    "\n",
    "def lookup(table, columns, values):\n",
    "    temp_df = pd.DataFrame(data=[values], columns = columns, copy=False)\n",
    "    return table.merge(temp_df, copy=False)"
   ]
  },
  {
   "cell_type": "code",
   "execution_count": 8,
   "metadata": {
    "collapsed": false,
    "deletable": true,
    "editable": true
   },
   "outputs": [],
   "source": [
    "class Autosipper:\n",
    "    def __init__(self, xy, z):\n",
    "        self.Z = z    # must be initialized first!\n",
    "        self.XY = xy\n",
    "        \n",
    "\n",
    "        while True:\n",
    "            fp = raw_input('Type in plate map file:')\n",
    "            try:\n",
    "                self.load_platemap(fp)  # load platemap\n",
    "                break\n",
    "            except IOError:\n",
    "                print 'No file', fp\n",
    "\n",
    "        raw_input('Place dropper above reference (press enter when done)')\n",
    "        self.XY.cmd_xy('here x y')  # establish current position as 0,0\n",
    "    \n",
    "    def load_platemap(self, filepath):\n",
    "        self.platemap = read_delim_pd(filepath)\n",
    "\n",
    "    def go_to(self, columns, values):\n",
    "        x1,y1,z1 = np.array(lookup(self.platemap, columns, values)[['x','y','z']])[0]\n",
    "\n",
    "        self.Z.home()          # move needle to travel height (blocking)\n",
    "        self.XY.move_xy(x1,y1) # move stage (blocking)\n",
    "        self.Z.move(z1)        # move needle to bottom of well (blocking)\n",
    "    \n",
    "    def exit(self):\n",
    "        self.XY.exit()\n",
    "        self.Z.exit()"
   ]
  },
  {
   "cell_type": "code",
   "execution_count": null,
   "metadata": {
    "collapsed": false,
    "deletable": true,
    "editable": true
   },
   "outputs": [
    {
     "name": "stdout",
     "output_type": "stream",
     "text": [
      "Initializing stage...\n"
     ]
    }
   ],
   "source": [
    "d = Autosipper(ASI_Controller('config/asi_controller.yaml'), Motor('config/le_motor.yaml'))"
   ]
  },
  {
   "cell_type": "code",
   "execution_count": null,
   "metadata": {
    "collapsed": false,
    "deletable": true,
    "editable": true,
    "scrolled": true
   },
   "outputs": [],
   "source": [
    "d.platemap"
   ]
  },
  {
   "cell_type": "code",
   "execution_count": null,
   "metadata": {
    "collapsed": false,
    "deletable": true,
    "editable": true
   },
   "outputs": [],
   "source": [
    "fig = plt.figure()\n",
    "ax = Axes3D(fig)\n",
    "ax.scatter(d.platemap['x'], d.platemap['y'], d.platemap['z'], s=5)\n",
    "plt.show()"
   ]
  },
  {
   "cell_type": "code",
   "execution_count": null,
   "metadata": {
    "collapsed": false,
    "deletable": true,
    "editable": true
   },
   "outputs": [],
   "source": [
    "d.go_to(['name'],'A01')"
   ]
  },
  {
   "cell_type": "code",
   "execution_count": null,
   "metadata": {
    "collapsed": false,
    "deletable": true,
    "editable": true
   },
   "outputs": [],
   "source": [
    "d.XY.r_xy(x_mm=0, y_mm=10)"
   ]
  },
  {
   "cell_type": "code",
   "execution_count": null,
   "metadata": {
    "collapsed": false,
    "deletable": true,
    "editable": true
   },
   "outputs": [],
   "source": [
    "d.exit()"
   ]
  },
  {
   "cell_type": "markdown",
   "metadata": {
    "deletable": true,
    "editable": true
   },
   "source": [
    "# PlatemapGen"
   ]
  },
  {
   "cell_type": "markdown",
   "metadata": {
    "deletable": true,
    "editable": true
   },
   "source": [
    "## Calibration procedure:\n",
    "Could also have dedicated reference position.   \n",
    "PositionMap describes the whole deck layout. \n",
    "Define XYZ limits\n",
    "Define travel height as min\n",
    "1. Move needle tip to some reference point (e.g. center-bottom of well A01 of top plate). Record $X_r$ $Y_r$ $Z_r$.\n",
    "2. Move\n",
    "\n",
    "Define limits of hardware"
   ]
  },
  {
   "cell_type": "code",
   "execution_count": null,
   "metadata": {
    "collapsed": false,
    "deletable": true,
    "editable": true,
    "scrolled": false
   },
   "outputs": [],
   "source": [
    "# I:\n",
    "# row_col_num: (ct, ct) 2-tuple of \n",
    "# row_col_spacing: (mm, mm)\n",
    "# well_top_bottom_diameter: (mm, mm, mm)\n",
    "# O: \n",
    "def generate_platemap(row_col_num, row_col_spacing, well_top_bottom_diameter):\n",
    "    print 'n','s','r','c','name','x','y','z'\n",
    "    for r in range(row_col_num[0]):\n",
    "        for c in range(row_col_num[1]):\n",
    "            n = c + (r)*row_col_num[1]\n",
    "            s = ((r+1)%2)*(c + r*row_col_num[1]) + (r%2)*((r+1)*row_col_num[1] - (c+1))\n",
    "            name = chr(64+r+1) + '{:02d}'.format(c+1)\n",
    "            x = -c*row_col_spacing[1]\n",
    "            y = r*row_col_spacing[0]\n",
    "            z = well_top_bottom_diameter[1]\n",
    "            print n, s, r, c, name, x, y, z\n",
    "\n",
    "row_col_num = 16,24\n",
    "row_col_spacing = 4.5,4.5\n",
    "well_top_bottom_diameter = 18,30,8\n",
    "generate_platemap(row_col_num, row_col_spacing, well_top_bottom_diameter)"
   ]
  },
  {
   "cell_type": "markdown",
   "metadata": {
    "deletable": true,
    "editable": true
   },
   "source": [
    "# Communication: PyVISA"
   ]
  },
  {
   "cell_type": "markdown",
   "metadata": {
    "deletable": true,
    "editable": true
   },
   "source": [
    "Install NI-VISA:\n",
    "https://pyvisa.readthedocs.io/en/stable/getting_nivisa.html"
   ]
  },
  {
   "cell_type": "code",
   "execution_count": null,
   "metadata": {
    "collapsed": true,
    "deletable": true,
    "editable": true
   },
   "outputs": [],
   "source": [
    "import visa"
   ]
  },
  {
   "cell_type": "code",
   "execution_count": null,
   "metadata": {
    "collapsed": false,
    "deletable": true,
    "editable": true
   },
   "outputs": [],
   "source": [
    "rm = visa.ResourceManager()"
   ]
  },
  {
   "cell_type": "code",
   "execution_count": null,
   "metadata": {
    "collapsed": false,
    "deletable": true,
    "editable": true
   },
   "outputs": [],
   "source": [
    "rm.list_resources()"
   ]
  },
  {
   "cell_type": "code",
   "execution_count": null,
   "metadata": {
    "collapsed": false,
    "deletable": true,
    "editable": true
   },
   "outputs": [],
   "source": [
    "rm.list_resources_info()"
   ]
  },
  {
   "cell_type": "markdown",
   "metadata": {
    "deletable": true,
    "editable": true
   },
   "source": [
    "# Documentation: Sphinx"
   ]
  },
  {
   "cell_type": "markdown",
   "metadata": {
    "deletable": true,
    "editable": true
   },
   "source": [
    "http://thomas-cokelaer.info/tutorials/sphinx/docstring_python.html"
   ]
  },
  {
   "cell_type": "markdown",
   "metadata": {
    "deletable": true,
    "editable": true
   },
   "source": [
    "# GUI: pywidgets.interact"
   ]
  },
  {
   "cell_type": "markdown",
   "metadata": {
    "deletable": true,
    "editable": true
   },
   "source": [
    "http://ipywidgets.readthedocs.io/en/latest/examples/Widget%20List.html"
   ]
  },
  {
   "cell_type": "code",
   "execution_count": null,
   "metadata": {
    "collapsed": false,
    "deletable": true,
    "editable": true
   },
   "outputs": [],
   "source": [
    "x_minus = widgets.Button(\n",
    "    description='<',\n",
    "    disabled=False,\n",
    "    button_style='',\n",
    "    icon='check')\n",
    "\n",
    "x_plus = widgets.Button(\n",
    "    description='>',\n",
    "    disabled=False,\n",
    "    button_style='',\n",
    "    icon='check')\n",
    "\n",
    "y_minus = widgets.Button(\n",
    "    description='^',\n",
    "    disabled=False,\n",
    "    button_style='', \n",
    "    icon='check', )\n",
    "\n",
    "y_plus = widgets.Button(\n",
    "    description='v',\n",
    "    disabled=False,\n",
    "    button_style='',\n",
    "    icon='check')\n",
    "\n",
    "xy_slider = widgets.VBox([widgets.FloatText(description='speed', width='50%',value=50),widgets.IntSlider(width=130, step=10)])\n",
    "xy_cluster = widgets.VBox([ widgets.HBox([x_minus,x_plus]), widgets.HBox([y_minus, y_plus]) ])\n",
    "\n",
    "\n",
    "z_minus = widgets.Button(\n",
    "    description='^',\n",
    "    disabled=False,\n",
    "    button_style='', \n",
    "    icon='check')\n",
    "\n",
    "z_plus = widgets.Button(\n",
    "    description='v',\n",
    "    disabled=False,\n",
    "    button_style='',\n",
    "    icon='check')\n",
    "\n",
    "z_slider = widgets.VBox([widgets.FloatText(description='speed', width='50%',value=50),widgets.IntSlider(width=130, step=10)])\n",
    "z_cluster = widgets.VBox([ z_minus, z_plus])\n",
    "\n",
    "\n",
    "display(widgets.HBox([xy_cluster, xy_slider, z_cluster, z_slider]))"
   ]
  },
  {
   "cell_type": "code",
   "execution_count": null,
   "metadata": {
    "collapsed": false
   },
   "outputs": [],
   "source": [
    "f = open('config/le_motor.yaml')\n",
    "config = yaml.load(f)\n",
    "f.close()"
   ]
  },
  {
   "cell_type": "code",
   "execution_count": null,
   "metadata": {
    "collapsed": false
   },
   "outputs": [],
   "source": []
  },
  {
   "cell_type": "code",
   "execution_count": null,
   "metadata": {
    "collapsed": false,
    "deletable": true,
    "editable": true
   },
   "outputs": [],
   "source": [
    "a = Motor('config/le_motor.yaml')"
   ]
  }
 ],
 "metadata": {
  "kernelspec": {
   "display_name": "Python 2",
   "language": "python",
   "name": "python2"
  },
  "language_info": {
   "codemirror_mode": {
    "name": "ipython",
    "version": 2
   },
   "file_extension": ".py",
   "mimetype": "text/x-python",
   "name": "python",
   "nbconvert_exporter": "python",
   "pygments_lexer": "ipython2",
   "version": "2.7.13"
  }
 },
 "nbformat": 4,
 "nbformat_minor": 1
}
