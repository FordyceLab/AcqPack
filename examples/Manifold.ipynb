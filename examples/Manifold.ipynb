{
 "cells": [
  {
   "cell_type": "markdown",
   "metadata": {
    "deletable": true,
    "editable": true
   },
   "source": [
    "https://github.com/FordyceLab/geppetto-cli   \n",
    "TODO:  \n",
    "- Get responses\n",
    "- Blocking?\n",
    "- Multiple at once\n",
    "- Valve map"
   ]
  },
  {
   "cell_type": "code",
   "execution_count": null,
   "metadata": {
    "collapsed": false,
    "deletable": true,
    "editable": true
   },
   "outputs": [],
   "source": [
    "import utils as ut\n",
    "from pymodbus.client.sync import ModbusTcpClient\n",
    "\n",
    "class Manifold:\n",
    "    def __init__(self, ip_address, valvemap_path, read_offset=0):\n",
    "        self.client = ModbusTcpClient(ip_address)\n",
    "        self.read_offset = read_offset\n",
    "        self.load_valvemap(valvemap_path)\n",
    "           \n",
    "    def pressurize(self, valve_num):\n",
    "        \"\"\"\n",
    "        Function to pressurize the valve of a given number\n",
    "        Args:\n",
    "        - valve_num (int): number of valve to pressurize\n",
    "        \"\"\"\n",
    "        # Read the state of the valve in question\n",
    "        state = self.read_valve(valve_num)\n",
    "\n",
    "        # Valve is currently depressurized if the register state is True\n",
    "        if state:\n",
    "            self.client.write_coil(valve_num, False)\n",
    "\n",
    "    def depressurize(self, valve_num):\n",
    "        \"\"\"\n",
    "        Function to depressurize the valve of a given number\n",
    "        Args:\n",
    "        - valve_num (int): number of valve to pressurize\n",
    "        \"\"\"\n",
    "        # Read the state of the valve in question\n",
    "        state = self.read_valve(valve_num)\n",
    "\n",
    "        # Valve is currently pressurized if the register state is False\n",
    "        if not state:\n",
    "            a = self.client.write_coil(valve_num, True)\n",
    "      \n",
    "    def read_valve(self, valve_num):\n",
    "        \"\"\"\n",
    "        Function to read a specific register number\n",
    "        Args:\n",
    "        - valve_num (int): valve number to read\n",
    "        Returns:\n",
    "        - state of the register (True: depressurized, False: pressurized)\n",
    "        \"\"\"\n",
    "        register_num = valve_num + self.read_offset\n",
    "        return self.client.read_coils(register_num, 1).bits[0]\n",
    "    \n",
    "    def load_valvemap(self, valvemap_path):\n",
    "        self.valvemap = ut.read_delim_pd(valvemap_path)\n",
    "    \n",
    "    def exit(self):\n",
    "        self.client.close()"
   ]
  },
  {
   "cell_type": "code",
   "execution_count": null,
   "metadata": {
    "collapsed": false,
    "deletable": true,
    "editable": true
   },
   "outputs": [],
   "source": [
    "manifold = Manifold('192.168.1.3', 'config/valvemap.csv', 512)"
   ]
  },
  {
   "cell_type": "code",
   "execution_count": null,
   "metadata": {
    "collapsed": false,
    "deletable": true,
    "editable": true
   },
   "outputs": [],
   "source": [
    "a = manifold.valvemap\n",
    "for i in a.valve:\n",
    "    print i, a.name[i], manifold.read_valve(i) "
   ]
  },
  {
   "cell_type": "code",
   "execution_count": null,
   "metadata": {
    "collapsed": true,
    "deletable": true,
    "editable": true
   },
   "outputs": [],
   "source": [
    "manifold.pressurize(47)"
   ]
  },
  {
   "cell_type": "code",
   "execution_count": null,
   "metadata": {
    "collapsed": false,
    "deletable": true,
    "editable": true
   },
   "outputs": [],
   "source": [
    "manifold.depressurize(47)"
   ]
  },
  {
   "cell_type": "code",
   "execution_count": null,
   "metadata": {
    "collapsed": false,
    "deletable": true,
    "editable": true
   },
   "outputs": [],
   "source": [
    "manifold.exit()"
   ]
  }
 ],
 "metadata": {
  "kernelspec": {
   "display_name": "Python 2",
   "language": "python",
   "name": "python2"
  },
  "language_info": {
   "codemirror_mode": {
    "name": "ipython",
    "version": 2
   },
   "file_extension": ".py",
   "mimetype": "text/x-python",
   "name": "python",
   "nbconvert_exporter": "python",
   "pygments_lexer": "ipython2",
   "version": "2.7.13"
  }
 },
 "nbformat": 4,
 "nbformat_minor": 2
}
