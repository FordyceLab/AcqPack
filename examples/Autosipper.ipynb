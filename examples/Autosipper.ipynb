{
 "cells": [
  {
   "cell_type": "markdown",
   "metadata": {
    "deletable": true,
    "editable": true
   },
   "source": [
    "# NOTES:\n",
    "- Waiting vs blocking  \n",
    "--> blocking holds up everything (could be selective?)  \n",
    "--> waiting for specific resources to reach inactive state (flags?)  \n",
    "\n",
    "- Platemap vs positionmap\n",
    "- Axes orientation\n",
    "\n",
    "# TODO:\n",
    "- tip touch\n",
    "- get motor current position\n",
    "- tip touch\n",
    "- calibration\n",
    "- initialization reference\n",
    "- GUI\n",
    "- pyVISA"
   ]
  },
  {
   "cell_type": "code",
   "execution_count": 1,
   "metadata": {
    "collapsed": false,
    "deletable": true,
    "editable": true
   },
   "outputs": [],
   "source": [
    "import matplotlib.pyplot as plt\n",
    "from mpl_toolkits.mplot3d import Axes3D\n",
    "from IPython.display import display\n",
    "import ipywidgets as widgets\n",
    "from __future__ import division"
   ]
  },
  {
   "cell_type": "code",
   "execution_count": 2,
   "metadata": {
    "collapsed": true,
    "deletable": true,
    "editable": true
   },
   "outputs": [],
   "source": [
    "%matplotlib notebook"
   ]
  },
  {
   "cell_type": "markdown",
   "metadata": {
    "deletable": true,
    "editable": true
   },
   "source": [
    "# Motor\n",
    "Lin Engineering  \n",
    "http://www.linengineering.com/wp-content/uploads/downloads/Silverpak_17C/documentation/Lin_Command_Manual.pdf\n",
    "\n",
    "1. Determine appropriate velocity_max = microsteps/sec\n",
    "2. Determine motor limits\n",
    "3. Determine conv = microsteps/mm\n",
    "4. Determine orientation (P+; D-)"
   ]
  },
  {
   "cell_type": "code",
   "execution_count": null,
   "metadata": {
    "collapsed": false,
    "deletable": true,
    "editable": true
   },
   "outputs": [],
   "source": [
    "import serial as s\n",
    "import time\n",
    "import yaml\n",
    "\n",
    "# TODO: get current position for relative move\n",
    "class Motor:\n",
    "    def __init__(self, config_file, init=True):\n",
    "        self.serial = s.Serial() # placeholder\n",
    "\n",
    "        f = open(config_file, 'r')\n",
    "        self.config = yaml.load(f)\n",
    "        f.close()\n",
    "        \n",
    "        if init:\n",
    "            self.initialize()\n",
    "\n",
    "    def initialize(self):\n",
    "        self.serial = s.Serial(**self.config['serial']) # open serial connection\n",
    "        \n",
    "        # TODO set moving current\n",
    "        # TODO set holding current\n",
    "        self.set_velocity(self.config['velocity_limit'])  # set velocity\n",
    "        self.home() # move motor to home\n",
    "        \n",
    "    def cmd(self, cmd_string, block=True):\n",
    "        full_string = self.config['prefix'] + cmd_string + self.config['terminator']\n",
    "        self.serial.write(full_string)\n",
    "        \n",
    "        time.sleep(0.15) # TODO: monitor for response?\n",
    "        response = self.serial.read(self.serial.inWaiting()).decode('utf8', 'ignore')\n",
    "        \n",
    "        while block and self.is_busy():\n",
    "            pass\n",
    "           \n",
    "        return response\n",
    "    \n",
    "    def is_busy(self):\n",
    "        cmd_string = 'Q'\n",
    "        time.sleep(0.05)\n",
    "        response = self.cmd(cmd_string, False)\n",
    "        return response.rfind('`') == -1\n",
    "    \n",
    "    \n",
    "    # velocity: (usteps/sec) \n",
    "    def set_velocity(self, velocity):\n",
    "        if velocity > self.config['velocity_limit']:\n",
    "            velocity = self.config['velocity_limit']\n",
    "            print 'ERR: Desired velocity exceeds velocity_limit; velocity now set to velocity_limit'\n",
    "            \n",
    "        cmd_string = 'V{}R'.format(velocity)\n",
    "        return self.cmd(cmd_string)\n",
    "       \n",
    "    def halt(self):\n",
    "        cmd_string = 'T'\n",
    "        self.cmd(cmd_string)\n",
    "    \n",
    "    def home(self):\n",
    "        cmd_string = 'Z{}R'.format(self.config['ustep_max'])\n",
    "        return self.cmd(cmd_string)\n",
    "    \n",
    "    def move(self, mm, block=True):\n",
    "        ustep = int(self.config['conv']*mm)\n",
    "        if ustep > self.config['ustep_max']:\n",
    "            ustep = self.config['ustep_max']\n",
    "            print 'ERR: Desired move to {} mm exceeds max of {} mm; moving to max instead'.format(mm, self.config['ustep_max']/self.config['conv'])\n",
    "        if ustep < self.config['ustep_min']:\n",
    "            ustep = self.config['ustep_min']\n",
    "            print 'ERR: Desired move to {} mm exceeds min of {} mm; moving to min instead'.format(mm, self.config['ustep_min']/self.config['conv'])\n",
    "            \n",
    "        cmd_string = 'A{}R'.format(ustep)\n",
    "        \n",
    "        return self.cmd(cmd_string, block)\n",
    "        \n",
    "    def move_relative(self, mm):\n",
    "        ustep = int(self.config['conv']*mm)\n",
    "        ustep_current = int(self.config['ustep_max']/2)  # TODO: limit movement (+ and -)\n",
    "        \n",
    "        if mm >= 0:\n",
    "            if (ustep_current + ustep) > self.config['ustep_max']:\n",
    "                ustep = self.config['ustep_max'] - ustep_current\n",
    "                print 'ERR: Desired move of +{} mm exceeds max of {} mm; moving to max instead'.format(mm, self.config['ustep_max']/self.config['conv'])\n",
    "            cmd_string = 'P{}R'.format(ustep)\n",
    "        \n",
    "        else:\n",
    "            if (ustep_current + ustep) < self.config['ustep_min']:\n",
    "                ustep = self.config['ustep_min'] - ustep_current\n",
    "                print 'ERR: Desired move of {} mm exceeds min of {} mm; moving to min instead'.format(mm, self.config['ustep_min']/self.config['conv'])\n",
    "            ustep = -1*ustep\n",
    "            cmd_string = 'D{}R'.format(ustep)\n",
    "        \n",
    "        return self.cmd(cmd_string)\n",
    "    \n",
    "    def where(self):\n",
    "        cmd_string = '?0'\n",
    "        ustep = self.cmd(cmd_string)\n",
    "        retrun float(ustep)/self.config['conv']\n",
    "    \n",
    "    def exit(self):\n",
    "        self.serial.close()"
   ]
  },
  {
   "cell_type": "code",
   "execution_count": null,
   "metadata": {
    "collapsed": false,
    "deletable": true,
    "editable": true
   },
   "outputs": [],
   "source": [
    "m = Motor('config/le_motor.yaml')"
   ]
  },
  {
   "cell_type": "code",
   "execution_count": null,
   "metadata": {
    "collapsed": false,
    "deletable": true,
    "editable": true
   },
   "outputs": [],
   "source": [
    "m.serial.write('/1Q\\r')\n",
    "time.sleep(0.5)\n",
    "m.serial.read(m.serial.inWaiting())"
   ]
  },
  {
   "cell_type": "code",
   "execution_count": null,
   "metadata": {
    "collapsed": false,
    "deletable": true,
    "editable": true
   },
   "outputs": [],
   "source": [
    "m.cmd('Z1000R')"
   ]
  },
  {
   "cell_type": "code",
   "execution_count": null,
   "metadata": {
    "collapsed": false,
    "deletable": true,
    "editable": true
   },
   "outputs": [],
   "source": [
    "print m.move(32)\n",
    "time.sleep(1)\n",
    "print m.move(20)"
   ]
  },
  {
   "cell_type": "code",
   "execution_count": null,
   "metadata": {
    "collapsed": false,
    "deletable": true,
    "editable": true
   },
   "outputs": [],
   "source": [
    "print m.cmd('P100000D100000P100000D100000P100000D100000P100000D100000R')\n",
    "print m.cmd('/1?0')"
   ]
  },
  {
   "cell_type": "code",
   "execution_count": null,
   "metadata": {
    "collapsed": false,
    "deletable": true,
    "editable": true
   },
   "outputs": [],
   "source": [
    "m.exit()"
   ]
  },
  {
   "cell_type": "markdown",
   "metadata": {
    "deletable": true,
    "editable": true
   },
   "source": [
    "# ASI Controller\n",
    "Applied Scientific Instrumentation  \n",
    "http://www.asiimaging.com/downloads/manuals/Operations_and_Programming_Manual.pdf\n",
    "\n",
    "1. Set hall effect sensors to appropriate limits\n",
    "2. Determine orientation (X+-, Y+-)"
   ]
  },
  {
   "cell_type": "code",
   "execution_count": null,
   "metadata": {
    "collapsed": false,
    "deletable": true,
    "editable": true
   },
   "outputs": [],
   "source": [
    "import serial as s\n",
    "import time\n",
    "import yaml\n",
    "\n",
    "# TODO: Fix serial.read encoding\n",
    "class ASI_Controller:\n",
    "    def __init__(self, config_file, init=True):\n",
    "        self.serial = s.Serial() # placeholder\n",
    "        \n",
    "        f = open(config_file, 'r')\n",
    "        self.config = yaml.load(f)\n",
    "        f.close()\n",
    "        \n",
    "        if init:\n",
    "            self.initialize()\n",
    "\n",
    "    def initialize(self):\n",
    "        self.serial = s.Serial(**self.config['serial']) # open serial connection\n",
    "\n",
    "        self.cmd_xy('mc x+ y+')  # enable motor control for xy\n",
    "        self.cmd_z('mc z+') # enable motor control for z\n",
    "\n",
    "        print \"Initializing stage...\"\n",
    "        self.move_xy(2000, -2000)  # move to switch limits (bottom right)\n",
    "        self.r_xy(-0.5, 0.5)  # move from switch limits 0.5 mm\n",
    "\n",
    "\n",
    "    def cmd(self, cmd_string):\n",
    "        full_string = self.config['prefix'] + cmd_string + self.config['terminator']\n",
    "        self.serial.write(full_string)\n",
    "        time.sleep(0.05)\n",
    "        response = self.serial.read(self.serial.inWaiting())\n",
    "        return response\n",
    "    \n",
    "    def halt(self):\n",
    "        self.halt_xy()\n",
    "        self.halt_z()\n",
    "    \n",
    "    \n",
    "    # XY ----------------------------------------------\n",
    "    def cmd_xy(self, cmd_string, block=True):\n",
    "        full_string = '2h ' + cmd_string\n",
    "        response = self.cmd(full_string)\n",
    "        \n",
    "        while block and self.is_busy_xy():\n",
    "            time.sleep(0.05)\n",
    "            pass\n",
    "         \n",
    "        return response\n",
    "    \n",
    "    def is_busy_xy(self):\n",
    "        status = self.cmd('2h STATUS')[0]\n",
    "        return status == 'B'\n",
    "\n",
    "    def halt_xy(self):\n",
    "        self.cmd_xy('HALT', False)\n",
    "    \n",
    "    def where_xy(self):\n",
    "        response = self.cmd_xy('WHERE X Y')\n",
    "        if response.find('A'):\n",
    "            pos_xy = response.split()[1:3]\n",
    "            pos_x = float(pos_xy[0])\n",
    "            pos_y = float(pos_xy[1])\n",
    "            return pos_x, pos_y\n",
    "        else:\n",
    "            return None, None \n",
    "\n",
    "    def move_xy(self, x_mm, y_mm):\n",
    "        conv = self.config['conv']\n",
    "        xStr = 'x=' + str(float(x_mm) * conv)\n",
    "        yStr = 'y=' + str(float(y_mm) * conv)\n",
    "        return self.cmd_xy(' '.join(['m', xStr, yStr]))\n",
    "    \n",
    "    def r_xy(self, x_mm, y_mm):\n",
    "        conv = self.config['conv']\n",
    "        xStr = 'x=' + str(float(x_mm) * conv)\n",
    "        yStr = 'y=' + str(float(y_mm) * conv)\n",
    "        return self.cmd_xy(' '.join(['r', xStr, yStr]))\n",
    "\n",
    "    # Z -----------------------------------------------\n",
    "    def cmd_z(self, cmd_string, block=True):\n",
    "        while block and self.is_busy_z():\n",
    "            time.sleep(0.3)\n",
    "        full_string = '1h ' + cmd_string\n",
    "        return self.cmd(full_string)\n",
    "    \n",
    "    def is_busy_z(self):\n",
    "        status = self.cmd('1h STATUS')\n",
    "        return status[0] == 'B'\n",
    "\n",
    "    def halt_z(self):\n",
    "        self.cmd_z('HALT', False)\n",
    "        \n",
    "    def where_z(self):\n",
    "        response = self.cmd_z('WHERE Z')\n",
    "        if response.find('A'):\n",
    "            pos_z = float(response.split()[1:2])\n",
    "            return pos_z\n",
    "        else:\n",
    "            return None    \n",
    "    \n",
    "    def move_z(self, z_mm):\n",
    "        conv = self.config['conv']\n",
    "        zStr = 'z=' + str(float(z_mm) * conv)\n",
    "        return self.cmd_z(' '.join(['m', zStr]))   \n",
    "    \n",
    "    def r_z(self, z_mm):\n",
    "        conv = self.config['conv']\n",
    "        zStr = 'z=' + str(float(z_mm) * conv)\n",
    "        return self.cmd_z(' '.join(['r', zStr]))\n",
    "    \n",
    "    def exit(self):\n",
    "        self.serial.close()"
   ]
  },
  {
   "cell_type": "code",
   "execution_count": null,
   "metadata": {
    "collapsed": false,
    "deletable": true,
    "editable": true,
    "scrolled": true
   },
   "outputs": [],
   "source": [
    "a = ASI_Controller('config/asi_controller.yaml')"
   ]
  },
  {
   "cell_type": "code",
   "execution_count": null,
   "metadata": {
    "collapsed": true,
    "deletable": true,
    "editable": true
   },
   "outputs": [],
   "source": [
    "a.exit()"
   ]
  },
  {
   "cell_type": "markdown",
   "metadata": {
    "deletable": true,
    "editable": true
   },
   "source": [
    "# Autosipper"
   ]
  },
  {
   "cell_type": "code",
   "execution_count": null,
   "metadata": {
    "collapsed": false,
    "deletable": true,
    "editable": true
   },
   "outputs": [],
   "source": [
    "from utils import lookup, read_delim_pd\n",
    "import numpy as np\n",
    "\n",
    "class Autosipper:\n",
    "    def __init__(self, z, xy):\n",
    "        self.Z = z    # must be initialized first!\n",
    "        self.XY = xy\n",
    "        \n",
    "        while True:\n",
    "            fp = raw_input('Type in plate map file:')\n",
    "            try:\n",
    "                self.load_platemap(fp)  # load platemap\n",
    "                break\n",
    "            except IOError:\n",
    "                print 'No file', fp\n",
    "\n",
    "        raw_input('Place dropper above reference (press enter when done)')\n",
    "        self.XY.cmd_xy('here x y')  # establish current position as 0,0\n",
    "    \n",
    "    def load_platemap(self, filepath):\n",
    "        self.platemap = read_delim_pd(filepath)\n",
    "\n",
    "    def go_to(self, columns, values):\n",
    "        x1,y1,z1 = np.array(lookup(self.platemap, columns, values)[['x','y','z']])[0]\n",
    "\n",
    "        self.Z.home()          # move needle to travel height (blocking)\n",
    "        self.XY.move_xy(x1,y1) # move stage (blocking)\n",
    "        self.Z.move(z1)        # move needle to bottom of well (blocking)\n",
    "        \n",
    "    def where(self):\n",
    "        pos_x, pos_y = XY.where_xy()\n",
    "        pos_z = Z.where()\n",
    "        return pos_x, pos_y, pos_z\n",
    "        \n",
    "    \n",
    "    def exit(self):\n",
    "        self.XY.exit()\n",
    "        self.Z.exit()"
   ]
  },
  {
   "cell_type": "code",
   "execution_count": null,
   "metadata": {
    "collapsed": false,
    "deletable": true,
    "editable": true
   },
   "outputs": [],
   "source": [
    "d = Autosipper(Motor('config/le_motor.yaml'), ASI_Controller('config/asi_controller.yaml'))"
   ]
  },
  {
   "cell_type": "code",
   "execution_count": null,
   "metadata": {
    "collapsed": false,
    "deletable": true,
    "editable": true,
    "scrolled": true
   },
   "outputs": [],
   "source": [
    "d.platemap"
   ]
  },
  {
   "cell_type": "code",
   "execution_count": null,
   "metadata": {
    "collapsed": false,
    "deletable": true,
    "editable": true
   },
   "outputs": [],
   "source": [
    "fig = plt.figure()\n",
    "ax = Axes3D(fig)\n",
    "ax.scatter(d.platemap['x'], d.platemap['y'], d.platemap['z'], s=5)\n",
    "plt.show()"
   ]
  },
  {
   "cell_type": "code",
   "execution_count": null,
   "metadata": {
    "collapsed": false,
    "deletable": true,
    "editable": true
   },
   "outputs": [],
   "source": [
    "d.Z.home"
   ]
  },
  {
   "cell_type": "code",
   "execution_count": null,
   "metadata": {
    "collapsed": false,
    "deletable": true,
    "editable": true
   },
   "outputs": [],
   "source": [
    "d.XY.r_xy(0,5)"
   ]
  },
  {
   "cell_type": "code",
   "execution_count": null,
   "metadata": {
    "collapsed": false,
    "deletable": true,
    "editable": true
   },
   "outputs": [],
   "source": [
    "d.go_to(['name'],'A12')"
   ]
  },
  {
   "cell_type": "code",
   "execution_count": null,
   "metadata": {
    "collapsed": false,
    "deletable": true,
    "editable": true
   },
   "outputs": [],
   "source": [
    "d.exit()"
   ]
  },
  {
   "cell_type": "markdown",
   "metadata": {
    "deletable": true,
    "editable": true
   },
   "source": [
    "# Communication: PyVISA"
   ]
  },
  {
   "cell_type": "markdown",
   "metadata": {
    "deletable": true,
    "editable": true
   },
   "source": [
    "Install NI-VISA:\n",
    "https://pyvisa.readthedocs.io/en/stable/getting_nivisa.html"
   ]
  },
  {
   "cell_type": "code",
   "execution_count": null,
   "metadata": {
    "collapsed": true,
    "deletable": true,
    "editable": true
   },
   "outputs": [],
   "source": [
    "import visa"
   ]
  },
  {
   "cell_type": "code",
   "execution_count": null,
   "metadata": {
    "collapsed": false,
    "deletable": true,
    "editable": true
   },
   "outputs": [],
   "source": [
    "rm = visa.ResourceManager()"
   ]
  },
  {
   "cell_type": "code",
   "execution_count": null,
   "metadata": {
    "collapsed": false,
    "deletable": true,
    "editable": true
   },
   "outputs": [],
   "source": [
    "rm.list_resources()"
   ]
  },
  {
   "cell_type": "code",
   "execution_count": null,
   "metadata": {
    "collapsed": false,
    "deletable": true,
    "editable": true
   },
   "outputs": [],
   "source": [
    "rm.list_resources_info()"
   ]
  },
  {
   "cell_type": "markdown",
   "metadata": {
    "deletable": true,
    "editable": true
   },
   "source": [
    "# Documentation: Sphinx"
   ]
  },
  {
   "cell_type": "markdown",
   "metadata": {
    "deletable": true,
    "editable": true
   },
   "source": [
    "http://thomas-cokelaer.info/tutorials/sphinx/docstring_python.html"
   ]
  }
 ],
 "metadata": {
  "kernelspec": {
   "display_name": "Python 2",
   "language": "python",
   "name": "python2"
  },
  "language_info": {
   "codemirror_mode": {
    "name": "ipython",
    "version": 2
   },
   "file_extension": ".py",
   "mimetype": "text/x-python",
   "name": "python",
   "nbconvert_exporter": "python",
   "pygments_lexer": "ipython2",
   "version": "2.7.13"
  }
 },
 "nbformat": 4,
 "nbformat_minor": 1
}
