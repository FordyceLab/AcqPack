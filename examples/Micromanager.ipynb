{
 "cells": [
  {
   "cell_type": "markdown",
   "metadata": {
    "deletable": true,
    "editable": true
   },
   "source": [
    "# Setup\n",
    "\n",
    "https://github.com/radioxoma/micromanager-samples/blob/master/mm_live_video.py\n",
    "\n",
    "https://micro-manager.org/wiki/Using_the_Micro-Manager_python_library#Using_Python_API\n",
    "\n",
    "https://micro-manager.org/wiki/Micro-Manager_Programming_Guide#Other\n",
    "\n",
    "\n",
    "http://micro-manager.3463995.n2.nabble.com/Cannot-add-Andor-SDK3-device-to-configuration-td7583283.html  \n",
    "https://sourceforge.net/p/micro-manager/mailman/message/34388695/"
   ]
  },
  {
   "cell_type": "markdown",
   "metadata": {
    "deletable": true,
    "editable": true
   },
   "source": [
    "# Main\n",
    "https://micro-manager.org/wiki/Micro-Manager_Programming_Guide   \n",
    "https://valelab4.ucsf.edu/~MM/doc/MMCore/html/class_c_m_m_core.html"
   ]
  },
  {
   "cell_type": "code",
   "execution_count": null,
   "metadata": {
    "collapsed": false,
    "deletable": true,
    "editable": true
   },
   "outputs": [],
   "source": [
    "# !!!! Also need to add MM folder to system PATH\n",
    "\n",
    "# mm_version = 'C:\\Micro-Manager-1.4'\n",
    "# cfg = 'C:\\Micro-Manager-1.4\\SetupNumber2_05102016.cfg'\n",
    "mm_version = 'C:\\Program Files\\Micro-Manager-2.0beta'\n",
    "cfg = 'C:\\Program Files\\Micro-Manager-2.0beta\\Setup2_20170413.cfg'\n",
    "\n",
    "import sys\n",
    "sys.path.insert(0, mm_version) # make it so python can find MMCorePy\n",
    "import MMCorePy\n",
    "\n",
    "import time\n",
    "from PIL import Image\n",
    "import numpy as np\n",
    "import matplotlib.pyplot as plt\n",
    "%matplotlib inline"
   ]
  },
  {
   "cell_type": "code",
   "execution_count": null,
   "metadata": {
    "collapsed": false,
    "deletable": true,
    "editable": true
   },
   "outputs": [],
   "source": [
    "core = MMCorePy.CMMCore()\n",
    "core.loadSystemConfiguration(cfg)"
   ]
  },
  {
   "cell_type": "code",
   "execution_count": null,
   "metadata": {
    "collapsed": false,
    "deletable": true,
    "editable": true
   },
   "outputs": [],
   "source": [
    "core.initializeCircularBuffer()\n",
    "core.setCircularBufferMemoryFootprint(4096) # MiB "
   ]
  },
  {
   "cell_type": "code",
   "execution_count": null,
   "metadata": {
    "collapsed": false,
    "deletable": true,
    "editable": true
   },
   "outputs": [],
   "source": [
    "core.setProperty(core.getCameraDevice(), \"Exposure\", 300)"
   ]
  },
  {
   "cell_type": "code",
   "execution_count": null,
   "metadata": {
    "collapsed": false,
    "deletable": true,
    "editable": true
   },
   "outputs": [],
   "source": [
    "core.setProperty(\"Spectra\", \"White_Enable\", \"1\")\n",
    "core.waitForDevice(\"Spectra\")"
   ]
  },
  {
   "cell_type": "code",
   "execution_count": null,
   "metadata": {
    "collapsed": true
   },
   "outputs": [],
   "source": [
    "# NEED TO SET CAMERA TO 16 BIT (ceiling 12 BIT = 4096)\n",
    "core.setProperty(\"Cam Andor_Zyla4.2\", \"Sensitivity/DynamicRange\", \"16-bit (low noise & high well capacity)\")"
   ]
  },
  {
   "cell_type": "markdown",
   "metadata": {
    "collapsed": false,
    "deletable": true,
    "editable": true
   },
   "source": [
    "Preset: 1_PBP   \n",
    "ConfigGroup,Channel,1_PBP,TIFilterBlock1,Label,1-PBP\n",
    "\n",
    "Preset: 2_BF    \n",
    "ConfigGroup,Channel,2_BF,TIFilterBlock1,Label,2-BF\n",
    "\n",
    "Preset: 3_DAPI   \n",
    "ConfigGroup,Channel,3_DAPI,TIFilterBlock1,Label,3-DAPI\n",
    "\n",
    "Preset: 4_eGFP   \n",
    "ConfigGroup,Channel,4_eGFP,TIFilterBlock1,Label,4-GFP\n",
    "\n",
    "Preset: 5_Cy5   \n",
    "ConfigGroup,Channel,5_Cy5,TIFilterBlock1,Label,5-Cy5\n",
    "\n",
    "Preset: 6_AttoPhos   \n",
    "ConfigGroup,Channel,6_AttoPhos,TIFilterBlock1,Label,6-AttoPhos"
   ]
  },
  {
   "cell_type": "code",
   "execution_count": null,
   "metadata": {
    "collapsed": true
   },
   "outputs": [],
   "source": [
    "core.setConfig('Channel','1_PBP')"
   ]
  },
  {
   "cell_type": "code",
   "execution_count": null,
   "metadata": {
    "collapsed": false,
    "deletable": true,
    "editable": true,
    "scrolled": true
   },
   "outputs": [],
   "source": [
    "core.snapImage()\n",
    "img = core.getImage()\n",
    "plt.imshow(img,cmap='gray')\n",
    "image = Image.fromarray(img)\n",
    "image.save('TESTIMAGE.tif')"
   ]
  },
  {
   "cell_type": "code",
   "execution_count": null,
   "metadata": {
    "collapsed": false,
    "deletable": true,
    "editable": true
   },
   "outputs": [],
   "source": [
    "for i in range(5):\n",
    "    x = core.getXPosition()\n",
    "    y = core.getYPosition()\n",
    "    core.setXYPosition(x-1500,y)\n",
    "    core.waitForDevice(core.getXYStageDevice())\n",
    "    \n",
    "    core.snapImage()\n",
    "    img = core.getImage()\n",
    "    image = Image.fromarray(img)\n",
    "    image.save('images/images_{}.tif'.format(i))"
   ]
  },
  {
   "cell_type": "code",
   "execution_count": null,
   "metadata": {
    "collapsed": false,
    "deletable": true,
    "editable": true
   },
   "outputs": [],
   "source": [
    "core.unloadAllDevices()\n",
    "core.reset()\n",
    "print 'closed'"
   ]
  },
  {
   "cell_type": "markdown",
   "metadata": {
    "deletable": true,
    "editable": true
   },
   "source": [
    "# Example: Get info"
   ]
  },
  {
   "cell_type": "code",
   "execution_count": null,
   "metadata": {
    "collapsed": false,
    "deletable": true,
    "editable": true
   },
   "outputs": [],
   "source": [
    "core.getFocusDevice()\n",
    "core.getCameraDevice()\n",
    "core.XYStageDevice()\n",
    "core.getDevicePropertyNames(core.getCameraDevice())"
   ]
  },
  {
   "cell_type": "markdown",
   "metadata": {
    "deletable": true,
    "editable": true
   },
   "source": [
    "# Example: Shutter control"
   ]
  },
  {
   "cell_type": "code",
   "execution_count": null,
   "metadata": {
    "collapsed": true,
    "deletable": true,
    "editable": true
   },
   "outputs": [],
   "source": [
    "# SHUTTER\n",
    "\n",
    "# Auto\n",
    "core.setAutoShutter(True)\n",
    "core.snapImage()\n",
    "\n",
    "# Manual\n",
    "core.setAutoShutter(False) # disable auto shutter\n",
    "core.setProperty(\"Shutter\", \"State\", \"1\")\n",
    "core.waitForDevice(\"Shutter\")\n",
    "core.snapImage()\n",
    "core.setProperty(\"Shutter\", \"State\", \"0\")"
   ]
  },
  {
   "cell_type": "markdown",
   "metadata": {
    "deletable": true,
    "editable": true
   },
   "source": [
    "# Example: Video"
   ]
  },
  {
   "cell_type": "code",
   "execution_count": null,
   "metadata": {
    "collapsed": false,
    "deletable": true,
    "editable": true
   },
   "outputs": [],
   "source": [
    "# cv2.startWindowThread()\n",
    "cv2.namedWindow('Video')\n",
    "cv2.imshow('Video',img)\n",
    "cv2.waitKey(0)"
   ]
  },
  {
   "cell_type": "code",
   "execution_count": null,
   "metadata": {
    "collapsed": true,
    "deletable": true,
    "editable": true
   },
   "outputs": [],
   "source": [
    "cv2.destroyAllWindows()\n",
    "core.stopSequenceAcquisition()"
   ]
  },
  {
   "cell_type": "code",
   "execution_count": null,
   "metadata": {
    "collapsed": false,
    "deletable": true,
    "editable": true
   },
   "outputs": [],
   "source": [
    "import cv2\n",
    "cv2.namedWindow('Video')\n",
    "core.startContinuousSequenceAcquisition(1)\n",
    "while True:\n",
    "    img = core.getLastImage()\n",
    "    if core.getRemainingImageCount() > 0:\n",
    "#         img = core.popNextImage()\n",
    "        img = core.getLastImage()\n",
    "        cv2.imshow('Video', img)\n",
    "        cv2.waitkey(0)\n",
    "    else:\n",
    "        print('No frame')\n",
    "    if cv2.waitKey(20) >= 0:\n",
    "        break\n",
    "cv2.destroyAllWindows()\n",
    "core.stopSequenceAcquisition()\n",
    "# core.reset()"
   ]
  },
  {
   "cell_type": "markdown",
   "metadata": {
    "deletable": true,
    "editable": true
   },
   "source": [
    "# Example: Logging"
   ]
  },
  {
   "cell_type": "code",
   "execution_count": null,
   "metadata": {
    "collapsed": true,
    "deletable": true,
    "editable": true
   },
   "outputs": [],
   "source": [
    "core.enableStderrLog(True)\n",
    "core.enableDebugLog(True)"
   ]
  },
  {
   "cell_type": "markdown",
   "metadata": {
    "deletable": true,
    "editable": true
   },
   "source": [
    "# Example: Config, programmatic"
   ]
  },
  {
   "cell_type": "code",
   "execution_count": null,
   "metadata": {
    "collapsed": true,
    "deletable": true,
    "editable": true
   },
   "outputs": [],
   "source": [
    "## load devices\n",
    "core.loadDevice(\"Camera\", \"DemoCamera\", \"DCam\")\n",
    "core.loadDevice(\"Emission\", \"DemoCamera\", \"DWheel\")\n",
    "core.loadDevice(\"Excitation\", \"DemoCamera\", \"DWheel\")\n",
    "core.loadDevice(\"Dichroic\", \"DemoCamera\", \"DWheel\")\n",
    "core.loadDevice(\"Objective\", \"DemoCamera\", \"DObjective\")\n",
    "core.loadDevice(\"X\", \"DemoCamera\", \"DStage\")\n",
    "core.loadDevice(\"Y\", \"DemoCamera\", \"DStage\")\n",
    "core.loadDevice(\"Z\", \"DemoCamera\", \"DStage\")\n",
    "core.initializeAllDevices()\n",
    "\n",
    "## set labels for state devices\n",
    "# emission filter\n",
    "core.defineStateLabel(\"Emission\", 0, \"Chroma-D460\")\n",
    "core.defineStateLabel(\"Emission\", 1, \"Chroma-HQ620\")\n",
    "core.defineStateLabel(\"Emission\", 2, \"Chroma-HQ535\")\n",
    "core.defineStateLabel(\"Emission\", 3, \"Chroma-HQ700\")\n",
    "# excitation filter\n",
    "core.defineStateLabel(\"Excitation\", 2, \"Chroma-D360\")\n",
    "core.defineStateLabel(\"Excitation\", 3, \"Chroma-HQ480\")\n",
    "core.defineStateLabel(\"Excitation\", 4, \"Chroma-HQ570\")\n",
    "core.defineStateLabel(\"Excitation\", 5, \"Chroma-HQ620\")\n",
    "# excitation dichroic\n",
    "core.defineStateLabel(\"Dichroic\", 0, \"400DCLP\")\n",
    "core.defineStateLabel(\"Dichroic\", 1, \"Q505LP\")\n",
    "core.defineStateLabel(\"Dichroic\", 2, \"Q585LP\")\n",
    "# objective\n",
    "core.defineStateLabel(\"Objective\", 1, \"Nikon 10X S Fluor\")\n",
    "core.defineStateLabel(\"Objective\", 3, \"Nikon 20X Plan Fluor ELWD\")\n",
    "core.defineStateLabel(\"Objective\", 5, \"Zeiss 4X Plan Apo\")\n",
    "\n",
    "## define configurations\n",
    "core.defineConfiguration(\"FITC\", \"Emission\", \"State\", \"2\")\n",
    "core.defineConfiguration(\"FITC\", \"Excitation\", \"State\", \"3\")\n",
    "core.defineConfiguration(\"FITC\", \"Dichroic\", \"State\", \"1\")\n",
    "core.defineConfiguration(\"DAPI\", \"Emission\", \"State\", \"1\")\n",
    "core.defineConfiguration(\"DAPI\", \"Excitation\", \"State\", \"2\")\n",
    "core.defineConfiguration(\"DAPI\", \"Dichroic\", \"State\", \"0\")\n",
    "core.defineConfiguration(\"Rhodamine\", \"Emission\", \"State\", \"3\")\n",
    "core.defineConfiguration(\"Rhodamine\", \"Excitation\", \"State\", \"4\")\n",
    "core.defineConfiguration(\"Rhodamine\", \"Dichroic\", \"State\", \"2\")\n",
    "\n",
    "## set initial imaging mode\n",
    "core.setProperty(\"Camera\", \"Exposure\", \"55\")\n",
    "core.setProperty(\"Objective\", \"Label\", \"Nikon 10X S Fluor\")\n",
    "core.setConfiguration(\"DAPI\")"
   ]
  },
  {
   "cell_type": "markdown",
   "metadata": {
    "deletable": true,
    "editable": true
   },
   "source": [
    "# Generated by Configurator on Mon Mar 20 15:37:38 PDT 2017\n",
    "\n",
    "# Reset\n",
    "Property,Core,Initialize,0\n",
    "\n",
    "# Devices\n",
    "Device,COM1,SerialManager,COM1\n",
    "Device,COM6,SerialManager,COM6\n",
    "Device,Cam Andor_Zyla4.2,AndorSDK3,Andor sCMOS Camera\n",
    "Device,Scope Nikon_Ti,NikonTI,TIScope\n",
    "Device,TIFilterBlock1,NikonTI,TIFilterBlock1\n",
    "Device,XY ASI_MS2000,ASIStage,XYStage\n",
    "Device,Z ASI_MS2000,ASIStage,ZStage\n",
    "Device,Spectra,LumencorSpectra,Spectra\n",
    "\n",
    "# Pre-init settings for devices\n",
    "Property,COM1,AnswerTimeout,500.0000\n",
    "Property,COM1,BaudRate,9600\n",
    "Property,COM1,DelayBetweenCharsMs,0.0000\n",
    "Property,COM1,Handshaking,Off\n",
    "Property,COM1,Parity,None\n",
    "Property,COM1,StopBits,1\n",
    "Property,COM1,Verbose,1\n",
    "Property,COM6,AnswerTimeout,500.0000\n",
    "Property,COM6,BaudRate,9600\n",
    "Property,COM6,DelayBetweenCharsMs,0.0000\n",
    "Property,COM6,Handshaking,Off\n",
    "Property,COM6,Parity,None\n",
    "Property,COM6,StopBits,1\n",
    "Property,COM6,Verbose,1\n",
    "Property,XY ASI_MS2000,Port,COM1\n",
    "Property,Z ASI_MS2000,Axis,Z\n",
    "Property,Z ASI_MS2000,Port,COM1\n",
    "Property,Spectra,Port,COM6\n",
    "Property,Spectra,SetLE_Type,Sola\n",
    "\n",
    "# Pre-init settings for COM ports\n",
    "\n",
    "# Hub (parent) references\n",
    "Parent,TIFilterBlock1,Scope Nikon_Ti\n",
    "\n",
    "# Initialize\n",
    "Property,Core,Initialize,1\n",
    "\n",
    "# Delays\n",
    "Delay,TIFilterBlock1,250.0\n",
    "\n",
    "# Focus directions\n",
    "\n",
    "# Roles\n",
    "Property,Core,Camera,Cam Andor_Zyla4.2\n",
    "Property,Core,Shutter,Spectra\n",
    "Property,Core,Focus,Z ASI_MS2000\n",
    "Property,Core,AutoShutter,1\n",
    "\n",
    "# Camera-synchronized devices\n",
    "\n",
    "# Labels\n",
    "# TIFilterBlock1\n",
    "Label,TIFilterBlock1,5,6-AttoPhos\n",
    "Label,TIFilterBlock1,4,5-Cy5\n",
    "Label,TIFilterBlock1,3,4-GFP\n",
    "Label,TIFilterBlock1,2,3-DAPI\n",
    "Label,TIFilterBlock1,1,2------\n",
    "Label,TIFilterBlock1,0,1-BF\n",
    "\n",
    "# Configuration presets\n",
    "# Group: Channel\n",
    "# Preset: 6-AttoPhos\n",
    "ConfigGroup,Channel,6-AttoPhos,TIFilterBlock1,Label,6-AttoPhos\n",
    "\n",
    "# Preset: 5-Cy5\n",
    "ConfigGroup,Channel,5-Cy5,TIFilterBlock1,Label,5-Cy5\n",
    "\n",
    "# Preset: 1------\n",
    "ConfigGroup,Channel,1------,TIFilterBlock1,Label,1-BF\n",
    "\n",
    "# Preset: 3-DAPI\n",
    "ConfigGroup,Channel,3-DAPI,TIFilterBlock1,Label,3-DAPI\n",
    "\n",
    "# Preset: 2------\n",
    "ConfigGroup,Channel,2------,TIFilterBlock1,Label,2------\n",
    "\n",
    "# Preset: 4-eGFP\n",
    "ConfigGroup,Channel,4-eGFP,TIFilterBlock1,Label,4-GFP\n",
    "\n",
    "\n",
    "# Group: SolaEnable\n",
    "# Preset: NewPreset\n",
    "ConfigGroup,SolaEnable,NewPreset,Spectra,White_Enable,1\n",
    "\n",
    "\n",
    "\n",
    "# PixelSize settings\n",
    "# Resolution preset: 10x\n",
    "ConfigPixelSize,10x,Core,AutoShutter,1\n",
    "PixelSize_um,10x,0.6418\n",
    "ConfigPixelSize,10x,Core,Camera,Cam Andor_Zyla4.2\n",
    "PixelSize_um,10x,0.6418\n",
    "ConfigPixelSize,10x,Core,Focus,Z ASI_MS2000\n",
    "PixelSize_um,10x,0.6418\n",
    "ConfigPixelSize,10x,Core,Initialize,1\n",
    "PixelSize_um,10x,0.6418\n",
    "ConfigPixelSize,10x,Core,Shutter,Spectra\n",
    "PixelSize_um,10x,0.6418\n",
    "ConfigPixelSize,10x,Core,XYStage,XY ASI_MS2000\n",
    "PixelSize_um,10x,0.6418\n",
    "\n",
    "\n"
   ]
  }
 ],
 "metadata": {
  "kernelspec": {
   "display_name": "Python 2",
   "language": "python",
   "name": "python2"
  },
  "language_info": {
   "codemirror_mode": {
    "name": "ipython",
    "version": 2
   },
   "file_extension": ".py",
   "mimetype": "text/x-python",
   "name": "python",
   "nbconvert_exporter": "python",
   "pygments_lexer": "ipython2",
   "version": "2.7.13"
  }
 },
 "nbformat": 4,
 "nbformat_minor": 2
}
