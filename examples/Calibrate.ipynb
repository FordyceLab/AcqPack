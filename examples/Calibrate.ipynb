{
 "cells": [
  {
   "cell_type": "markdown",
   "metadata": {},
   "source": [
    "# SETUP and CALIBRATION\n",
    "#### Sampler\n",
    "- Assemble Z-drive, arm, DL needle\n",
    "\n",
    "- Build stand (with desired stage heights)\n",
    "- Loosely attach brackets w/ fasteners to stage bottom\n",
    "- Attach stage (near end of cantilever)\n",
    "- Attach Z-drive assembly\n",
    "    - linear guide should be perpendicular to stage surface\n",
    "- Set up controller and software(?), attach cables\n",
    "- Attach deck to stage\n",
    "    - Be aware that arm could be obstructed by taller vessels in certain orientations, preventing access to shorter vessels   \n",
    "\n",
    "\n",
    "- HW: adjust hardware limits, alignment with Z axis\n",
    "- HW/DECK: set convenient zero/home corner in config\n",
    "- DECK: Determine transform to HW\n",
    "\n",
    "#### Fraction Collector\n",
    "- Assemble slider, arm\n",
    "\n",
    "- subset of Sampler, w/ arm, stage attachment difference"
   ]
  },
  {
   "cell_type": "code",
   "execution_count": null,
   "metadata": {},
   "outputs": [],
   "source": [
    "from acqpack import Motor, AsiController, Autosampler, FractionCollector\n",
    "from acqpack import gui\n",
    "from acqpack import utils as ut\n",
    "\n",
    "import yaml\n",
    "import numpy as np\n",
    "import pandas as pd"
   ]
  },
  {
   "cell_type": "markdown",
   "metadata": {},
   "source": [
    "# 1 HW: set imits; align XY with Z\n",
    "physical adjustments\n",
    "- adjust hall effect stops to maximize range\n",
    "- make sure:\n",
    "    - all relevant points on deck are accessible (check with 384-well plate)\n",
    "    - the stage does not collide with Z-axis (reorientation of the stage/deck may be necessary)\n",
    "    - at max Z, needle is at or just below top of deck"
   ]
  },
  {
   "cell_type": "code",
   "execution_count": null,
   "metadata": {},
   "outputs": [],
   "source": [
    "a = Autosampler(Motor('config/motor.yaml'),  AsiController('config/input.yaml'))\n",
    "gui.stage_control(a)"
   ]
  },
  {
   "cell_type": "markdown",
   "metadata": {},
   "source": [
    "# 2 HW/DECK: set convenient XY zero/home corner in config"
   ]
  },
  {
   "cell_type": "code",
   "execution_count": null,
   "metadata": {
    "collapsed": true
   },
   "outputs": [],
   "source": [
    "# in input.yaml, set desired init_dir (x_dir and y_dir)"
   ]
  },
  {
   "cell_type": "markdown",
   "metadata": {},
   "source": [
    "# 3 DECK: Determine transform to hardware\n",
    "\n",
    "This is one way to do this; it assumes things are generally rectilinear (90deg rotations)   \n",
    "Could also do regression between frame1 and frame2 (generalizable way?)\n",
    "\n",
    "- XY rotation / reflection must be re-determined any time:\n",
    "    - deck is rotated relative to stage\n",
    "    - zero/home corner is changed in config\n",
    "- offset must be re-determined any time:\n",
    "    - deck is rotated relative to stage\n",
    "    - zero/home corner is changed in config\n",
    "    - hall-effect sensors are moved\n",
    "    - z-drive and stage are shifted (in any direction) relative to one another\n",
    "    - needle is changed to a different one\n",
    "    \n",
    "```\n",
    "a x' y' z' w'\n",
    "x 1. 0. 0. 0.\n",
    "y 0. 1. 0. 0.\n",
    "z 0. 0. -1. .0\n",
    "w 0. 0. 0. 1.\n",
    "```"
   ]
  },
  {
   "cell_type": "code",
   "execution_count": null,
   "metadata": {},
   "outputs": [],
   "source": [
    "a = Autosampler(Motor('config/motor.yaml'),  AsiController('config/input.yaml'))\n",
    "gui.stage_control(a)"
   ]
  },
  {
   "cell_type": "code",
   "execution_count": null,
   "metadata": {
    "collapsed": true
   },
   "outputs": [],
   "source": [
    "# DECK is row; HW is col\n",
    "# determine XY axes mapping (rotations / reflections)\n",
    "\n",
    "# determine XYZ offset (i.e. when DECK is 0,0,0, what is HW ?)\n",
    "\n",
    "# save affine in input_deck.txt"
   ]
  },
  {
   "cell_type": "markdown",
   "metadata": {},
   "source": [
    "# 4 PLATES: Make frames in deck coordinates\n",
    "This is one way to do this; it assumes things are generally rectilinear (90deg rotations)   \n",
    "Could also do regression between frame1 and frame2 (generalizable way?)\n",
    "- x,y,z of all well positions are in 'DECK coordinates', i.e. relative to fixed point on deck (ref point, coordinate origin)\n",
    "- this allows platemaps to be reused so long as:\n",
    "    - deck is the same\n",
    "    - position AND orientation of plate on deck is the same\n",
    "- could also use sequence of transforms (PLATE -> DECK -> HARDWARE), but this is simpler for now"
   ]
  },
  {
   "cell_type": "code",
   "execution_count": null,
   "metadata": {
    "collapsed": true
   },
   "outputs": [],
   "source": [
    "a = Autosampler(Motor('config/motor.yaml'),  AsiController('config/input.yaml'))\n",
    "a.add_frame('deck', 'config/input_deck.txt')\n",
    "gui.stage_control(a)"
   ]
  },
  {
   "cell_type": "code",
   "execution_count": null,
   "metadata": {
    "scrolled": true
   },
   "outputs": [],
   "source": [
    "# determine plate 'A01' offset relative to deck origin using above GUI\n",
    "# i.e. deck coordinates of 'A01'\n",
    "offset = (2.493, 12.749, 0)\n",
    "\n",
    "# generate platemap with offset\n",
    "num_rc = (8,12)   # ct, ct\n",
    "space_rc = (9,9)  # mm, mm (can do negative if row or column reflected)\n",
    "platemap = ut.generate_position_table(num_rc, space_rc, offset, True)\n",
    "\n",
    "# save\n",
    "filename = '96plate.txt'\n",
    "platemap"
   ]
  },
  {
   "cell_type": "code",
   "execution_count": null,
   "metadata": {},
   "outputs": [],
   "source": [
    "# determine plate 'A01' offset relative to deck origin using above GUI\n",
    "# i.e. deck coordinates of 'A01'\n",
    "offset = (8.192, -18.952, 37.700)\n",
    "\n",
    "# generate platemap with offset\n",
    "num_rc = (1,4)   # ct, ct\n",
    "space_rc = (0,28.375)  # mm, mm (can do negative if row or column reflected)\n",
    "platemap = ut.generate_position_table(num_rc, space_rc, offset, True)\n",
    "\n",
    "# save\n",
    "filename = '4scint.txt'\n",
    "platemap"
   ]
  },
  {
   "cell_type": "code",
   "execution_count": null,
   "metadata": {},
   "outputs": [],
   "source": [
    "a.add_frame('plate', 'config/input_deck.txt', 'config/96plate.txt')\n",
    "a.add_frame('wash', 'config/input_deck.txt', 'config/4scint.txt')"
   ]
  },
  {
   "cell_type": "code",
   "execution_count": null,
   "metadata": {},
   "outputs": [],
   "source": [
    "a.goto('plate','name', 'H10')"
   ]
  },
  {
   "cell_type": "code",
   "execution_count": null,
   "metadata": {},
   "outputs": [],
   "source": [
    "a.where()"
   ]
  },
  {
   "cell_type": "markdown",
   "metadata": {},
   "source": [
    "# Runtime: option to check deck transform?\n",
    "- be sure to clear deck!!!!!!\n",
    "- go to XY (0,0)\n",
    "- drop Z manually to check (0,)\n",
    "- can:\n",
    "    - tweak physically to bring back into alignment \n",
    "    - update deck coordinate frame"
   ]
  },
  {
   "cell_type": "code",
   "execution_count": null,
   "metadata": {
    "collapsed": true
   },
   "outputs": [],
   "source": [
    "a.goto('deck', 'xyz', (0,0,0))"
   ]
  },
  {
   "cell_type": "markdown",
   "metadata": {},
   "source": [
    "# Generalized prodcedure to determine transform between two coordinate frames?\n",
    "- regression between set of points from frame1 and frame2"
   ]
  },
  {
   "cell_type": "markdown",
   "metadata": {},
   "source": [
    "# TODO\n",
    "- Determine transforms\n",
    "- TEST\n",
    "    - push version\n",
    "\n",
    "- needle\n",
    "\n",
    "\n",
    "- yaml np.array load/store format (better to print to save for readability? or use csv?)\n",
    "    - or use RS matrix + offset vector"
   ]
  },
  {
   "cell_type": "code",
   "execution_count": null,
   "metadata": {
    "collapsed": true
   },
   "outputs": [],
   "source": []
  },
  {
   "cell_type": "markdown",
   "metadata": {},
   "source": [
    "# RUN!"
   ]
  },
  {
   "cell_type": "code",
   "execution_count": 2,
   "metadata": {
    "collapsed": true
   },
   "outputs": [],
   "source": [
    "from acqpack import Motor, AsiController, Autosampler, FractionCollector\n",
    "from acqpack import gui\n",
    "from acqpack import utils as ut"
   ]
  },
  {
   "cell_type": "markdown",
   "metadata": {},
   "source": [
    "### Autosampler"
   ]
  },
  {
   "cell_type": "code",
   "execution_count": 3,
   "metadata": {},
   "outputs": [
    {
     "name": "stdout",
     "output_type": "stream",
     "text": [
      "(-0.000, 0.000, 0.000) hardware\n",
      "(0.330, -28.698, 99.600) plate\n",
      "(0.330, -28.698, 99.600) wash\n"
     ]
    }
   ],
   "source": [
    "a = Autosampler(Motor('config/motor.yaml'),  AsiController('config/input.yaml'))\n",
    "gui.stage_control(a)"
   ]
  },
  {
   "cell_type": "code",
   "execution_count": 33,
   "metadata": {},
   "outputs": [],
   "source": [
    "a.add_frame('plate', 'config/input_deck.txt', 'config/96plate.txt')\n",
    "a.add_frame('wash', 'config/input_deck.txt', 'config/4scint.txt')"
   ]
  },
  {
   "cell_type": "code",
   "execution_count": 60,
   "metadata": {},
   "outputs": [],
   "source": [
    "a.goto('plate', 'name', 'A01', zh_travel=35)"
   ]
  },
  {
   "cell_type": "code",
   "execution_count": 34,
   "metadata": {
    "collapsed": true
   },
   "outputs": [],
   "source": [
    "a.goto('plate', 'xyz', (0,0,0))"
   ]
  },
  {
   "cell_type": "markdown",
   "metadata": {},
   "source": [
    "### FractionCollector"
   ]
  },
  {
   "cell_type": "code",
   "execution_count": 55,
   "metadata": {},
   "outputs": [
    {
     "name": "stdout",
     "output_type": "stream",
     "text": [
      "(101.493, -75.749) hardware\n",
      "(101.493, 75.749) plate\n"
     ]
    }
   ],
   "source": [
    "f = FractionCollector(AsiController('config/output.yaml'))\n",
    "gui.stage_control(f)"
   ]
  },
  {
   "cell_type": "code",
   "execution_count": 56,
   "metadata": {},
   "outputs": [],
   "source": [
    "f.add_frame('plate', 'config/output_deck.txt', 'config/96plate.txt')"
   ]
  },
  {
   "cell_type": "code",
   "execution_count": 58,
   "metadata": {},
   "outputs": [],
   "source": [
    "f.goto('plate', 'name', 'H12')"
   ]
  },
  {
   "cell_type": "code",
   "execution_count": 62,
   "metadata": {},
   "outputs": [
    {
     "data": {
      "text/plain": [
       "(101.49339999999999, 75.748900000000006)"
      ]
     },
     "execution_count": 62,
     "metadata": {},
     "output_type": "execute_result"
    }
   ],
   "source": [
    "f.where('plate')"
   ]
  },
  {
   "cell_type": "code",
   "execution_count": 54,
   "metadata": {
    "collapsed": true
   },
   "outputs": [],
   "source": [
    "f.exit()"
   ]
  }
 ],
 "metadata": {
  "kernelspec": {
   "display_name": "Python 2",
   "language": "python",
   "name": "python2"
  },
  "language_info": {
   "codemirror_mode": {
    "name": "ipython",
    "version": 2
   },
   "file_extension": ".py",
   "mimetype": "text/x-python",
   "name": "python",
   "nbconvert_exporter": "python",
   "pygments_lexer": "ipython2",
   "version": "2.7.13"
  }
 },
 "nbformat": 4,
 "nbformat_minor": 2
}
