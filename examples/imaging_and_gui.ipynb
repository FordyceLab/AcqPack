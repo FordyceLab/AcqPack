{
 "cells": [
  {
   "cell_type": "code",
   "execution_count": 10,
   "metadata": {
    "collapsed": false,
    "deletable": true,
    "editable": true
   },
   "outputs": [],
   "source": [
    "# %matplotlib notebook\n",
    "import numpy as np\n",
    "import cv2\n",
    "import matplotlib.pyplot as plt\n",
    "from IPython import display\n",
    "from ipywidgets import widgets\n",
    "from ipywidgets import interact"
   ]
  },
  {
   "cell_type": "code",
   "execution_count": null,
   "metadata": {
    "collapsed": false,
    "deletable": true,
    "editable": true
   },
   "outputs": [],
   "source": [
    "# makes plots look sharper on Macboook Pro retina screen\n",
    "%config InlineBackend.figure_format = 'retina'"
   ]
  },
  {
   "cell_type": "markdown",
   "metadata": {
    "deletable": true,
    "editable": true
   },
   "source": [
    "# Snap"
   ]
  },
  {
   "cell_type": "code",
   "execution_count": null,
   "metadata": {
    "collapsed": true,
    "deletable": true,
    "editable": true
   },
   "outputs": [],
   "source": [
    "# test image stack\n",
    "arr = []\n",
    "for i in range(50):\n",
    "    b = np.random.rand(500,500)\n",
    "    b= (b*(2**16-1)).astype('uint16')\n",
    "    arr.append(b)"
   ]
  },
  {
   "cell_type": "code",
   "execution_count": null,
   "metadata": {
    "collapsed": false,
    "deletable": true,
    "editable": true
   },
   "outputs": [],
   "source": [
    "# snap (MPL)\n",
    "button = widgets.Button(description='Snap')\n",
    "display.display(button)\n",
    "    \n",
    "def on_button_clicked(b):\n",
    "    img=arr.pop()\n",
    "    plt.imshow(img, cmap='gray')\n",
    "    display.clear_output(wait=True)\n",
    "    display.display(plt.gcf())\n",
    "    \n",
    "button.on_click(on_button_clicked)"
   ]
  },
  {
   "cell_type": "code",
   "execution_count": null,
   "metadata": {
    "collapsed": false,
    "deletable": true,
    "editable": true
   },
   "outputs": [],
   "source": [
    "# snap (CV2)\n",
    "button = widgets.Button(description='Snap')\n",
    "display.display(button)\n",
    "    \n",
    "def on_button_clicked(b):\n",
    "    img=arr.pop()\n",
    "    cv2.imshow('Video',img)\n",
    "    cv2.waitKey(30)\n",
    "        \n",
    "button.on_click(on_button_clicked)"
   ]
  },
  {
   "cell_type": "markdown",
   "metadata": {
    "deletable": true,
    "editable": true
   },
   "source": [
    "# Video\n",
    "http://opencv-python-tutroals.readthedocs.io/en/latest/py_tutorials/py_gui/py_video_display/py_video_display.html"
   ]
  },
  {
   "cell_type": "code",
   "execution_count": 5,
   "metadata": {
    "collapsed": false,
    "deletable": true,
    "editable": true
   },
   "outputs": [],
   "source": [
    "import numpy as np\n",
    "import cv2\n",
    "from IPython import display\n",
    "# test image stack\n",
    "a = []\n",
    "for i in range(50):\n",
    "    b = np.zeros((500,500))\n",
    "    b[i:i+100, i:i+100]=1.0\n",
    "    b=b*255\n",
    "    b=b.astype('uint8')\n",
    "    a.append(b)"
   ]
  },
  {
   "cell_type": "code",
   "execution_count": null,
   "metadata": {
    "collapsed": false,
    "deletable": true,
    "editable": true
   },
   "outputs": [],
   "source": [
    "# video (MPL) (slow, doesn't work well)\n",
    "# for img in a:\n",
    "#     plt.imshow(img, cmap='gray')\n",
    "#     display.clear_output(wait=True)\n",
    "#     display.display(plt.gcf())"
   ]
  },
  {
   "cell_type": "code",
   "execution_count": 9,
   "metadata": {
    "collapsed": false,
    "deletable": true,
    "editable": true
   },
   "outputs": [
    {
     "name": "stdout",
     "output_type": "stream",
     "text": [
      "[ 1.15774925]\n"
     ]
    }
   ],
   "source": [
    "# video (CV2)\n",
    "cv2.namedWindow('Video',cv2.WINDOW_NORMAL)\n",
    "for img in a:\n",
    "    b = cv2.imshow('Video',img)\n",
    "    cv2.resizeWindow('Video', 500,500)\n",
    "    cv2.moveWindow('Video',0,0)\n",
    "    display.clear_output(wait=True)\n",
    "    print np.random.randn(1)\n",
    "    if cv2.waitKey(30) >= 0:\n",
    "        break\n",
    "cv2.destroyAllWindows()"
   ]
  },
  {
   "cell_type": "code",
   "execution_count": 11,
   "metadata": {
    "collapsed": false,
    "deletable": true,
    "editable": true
   },
   "outputs": [
    {
     "name": "stdout",
     "output_type": "stream",
     "text": [
      "[ 0.25474327]\n"
     ]
    }
   ],
   "source": [
    "# video with button (CV2)\n",
    "button = widgets.Button(description='Live')\n",
    "display.display(button)\n",
    "    \n",
    "def on_button_clicked(b):\n",
    "    for img in a:  \n",
    "        cv2.imshow('Video',img)\n",
    "        cv2.waitKey(30)\n",
    "        display.clear_output(wait=True)\n",
    "        print np.random.randn(1)\n",
    "        \n",
    "button.on_click(on_button_clicked)"
   ]
  },
  {
   "cell_type": "markdown",
   "metadata": {
    "deletable": true,
    "editable": true
   },
   "source": [
    "# GUI and BUTTONS\n",
    "http://docs.opencv.org/2.4/modules/highgui/doc/user_interface.html"
   ]
  },
  {
   "cell_type": "code",
   "execution_count": null,
   "metadata": {
    "collapsed": false,
    "deletable": true,
    "editable": true
   },
   "outputs": [],
   "source": [
    "button = widgets.ToggleButton(description='Live', value=False)\n",
    "\n",
    "def on_click(change):\n",
    "    display.clear_output(wait=True)\n",
    "    print change['new']\n",
    "\n",
    "button.observe(on_click, names='value')\n",
    "display.display(button)"
   ]
  },
  {
   "cell_type": "code",
   "execution_count": null,
   "metadata": {
    "collapsed": false,
    "deletable": true,
    "editable": true
   },
   "outputs": [],
   "source": [
    "import time\n",
    "b1 = widgets.Button(description='b1')\n",
    "b2 = widgets.Button(description='b2')\n",
    "\n",
    "def ctrlloop():\n",
    "    \n",
    "    \n",
    "\n",
    "def b1_click(b):\n",
    "    for i in range(10):\n",
    "        print 'b1', i\n",
    "        time.sleep(0.5)\n",
    "\n",
    "def b2_click(b):\n",
    "    for i in range(10):\n",
    "        print 'b2', i\n",
    "        \n",
    "# dl = widgets.jsdlink((button, 'value'), (vid, 'value'))\n",
    "b1.on_click(b1_click)\n",
    "b2.on_click(b2_click)\n",
    "\n",
    "widgets.HBox([b1,b2])"
   ]
  },
  {
   "cell_type": "code",
   "execution_count": null,
   "metadata": {
    "collapsed": false,
    "deletable": true,
    "editable": true
   },
   "outputs": [],
   "source": [
    "play = widgets.Play(\n",
    "    interval=160,\n",
    "    value=50,\n",
    "    min=0,\n",
    "    max=100,\n",
    "    step=1,\n",
    "    description=\"Press play\",\n",
    "    disabled=False\n",
    ")\n",
    "slider = widgets.IntSlider()\n",
    "widgets.jslink((play, 'value'), (slider, 'value'))\n",
    "widgets.HBox([play, slider])"
   ]
  },
  {
   "cell_type": "code",
   "execution_count": null,
   "metadata": {
    "collapsed": false,
    "deletable": true,
    "editable": true
   },
   "outputs": [],
   "source": [
    "f = open('temp.msg','wb')\n",
    "f.write(str(1))\n",
    "f.close()"
   ]
  },
  {
   "cell_type": "markdown",
   "metadata": {
    "deletable": true,
    "editable": true
   },
   "source": [
    "### Arrows"
   ]
  },
  {
   "cell_type": "code",
   "execution_count": 2,
   "metadata": {
    "collapsed": false,
    "deletable": true,
    "editable": true
   },
   "outputs": [
    {
     "name": "stderr",
     "output_type": "stream",
     "text": [
      "Widget Javascript not detected.  It may not be installed properly. Did you enable the widgetsnbextension? If not, then run \"jupyter nbextension enable --py --sys-prefix widgetsnbextension\"\n"
     ]
    }
   ],
   "source": [
    "# icons are from \"font-awesome\"\n",
    "\n",
    "x_minus = widgets.Button(\n",
    "    description='',\n",
    "    disabled=False,\n",
    "    button_style='',\n",
    "    icon = 'arrow-left')\n",
    "\n",
    "x_plus = widgets.Button(\n",
    "    description='',\n",
    "    disabled=False,\n",
    "    button_style='',\n",
    "    icon = 'arrow-right')\n",
    "\n",
    "y_minus = widgets.Button(\n",
    "    description='',\n",
    "    disabled=False,\n",
    "    button_style='', \n",
    "    icon='arrow-up')\n",
    "\n",
    "y_plus = widgets.Button(\n",
    "    description='',\n",
    "    disabled=False,\n",
    "    button_style='',\n",
    "    icon = 'arrow-down')\n",
    "\n",
    "xy_slider = widgets.VBox([widgets.FloatText(description='speed', width='30%',value=50),widgets.IntSlider(width=100, step=10)])\n",
    "xy_cluster = widgets.VBox([ widgets.HBox([x_minus,x_plus]), widgets.HBox([y_minus, y_plus]) ])\n",
    "\n",
    "\n",
    "z_minus = widgets.Button(\n",
    "    description='',\n",
    "    disabled=False,\n",
    "    button_style='',\n",
    "    icon = 'arrow-up')\n",
    "\n",
    "z_plus = widgets.Button(\n",
    "    description='',\n",
    "    disabled=False,\n",
    "    button_style='',\n",
    "    icon = 'arrow-down')\n",
    "\n",
    "z_slider = widgets.VBox([widgets.FloatText(description='speed', width='30%',value=50),widgets.IntSlider(width=100, step=10)])\n",
    "z_cluster = widgets.VBox([ z_minus, z_plus])\n",
    "\n",
    "widgets.HBox([xy_cluster, xy_slider, z_cluster, z_slider])"
   ]
  }
 ],
 "metadata": {
  "kernelspec": {
   "display_name": "Python 2",
   "language": "python",
   "name": "python2"
  },
  "language_info": {
   "codemirror_mode": {
    "name": "ipython",
    "version": 2
   },
   "file_extension": ".py",
   "mimetype": "text/x-python",
   "name": "python",
   "nbconvert_exporter": "python",
   "pygments_lexer": "ipython2",
   "version": "2.7.13"
  },
  "widgets": {
   "state": {
    "5a12de4abd984eca84804bbb4051a359": {
     "views": [
      {
       "cell_index": 10
      }
     ]
    }
   },
   "version": "1.2.0"
  }
 },
 "nbformat": 4,
 "nbformat_minor": 2
}
